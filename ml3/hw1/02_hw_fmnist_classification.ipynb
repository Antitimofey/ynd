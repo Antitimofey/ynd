{
 "cells": [
  {
   "cell_type": "markdown",
   "metadata": {
    "id": "nDsVMGiVgSq2"
   },
   "source": [
    "## Классификация FashionMNIST\n",
    "\n",
    "##### Автор: [Радослав Нейчев](https://www.linkedin.com/in/radoslav-neychev/), https://t.me/s/girafe_ai"
   ]
  },
  {
   "cell_type": "code",
   "execution_count": 1,
   "metadata": {
    "id": "3isBRG6PgSq6"
   },
   "outputs": [],
   "source": [
    "# do not change the code in the block below\n",
    "# __________start of block__________\n",
    "import json\n",
    "import os\n",
    "import re\n",
    "\n",
    "import numpy as np\n",
    "import torch\n",
    "import torchvision\n",
    "from IPython.display import clear_output\n",
    "from matplotlib import pyplot as plt\n",
    "from torch import nn\n",
    "from torch.nn import functional as F\n",
    "from torchvision.datasets import FashionMNIST\n",
    "\n",
    "# __________end of block__________"
   ]
  },
  {
   "cell_type": "code",
   "execution_count": 2,
   "metadata": {},
   "outputs": [],
   "source": [
    "# do not change the code in the block below\n",
    "# __________start of block__________\n",
    "def get_predictions(model, eval_data, step=10):\n",
    "\n",
    "    predicted_labels = []\n",
    "    model.eval()\n",
    "    with torch.no_grad():\n",
    "        for idx in range(0, len(eval_data), step):\n",
    "            y_predicted = model(eval_data[idx : idx + step].to(device))\n",
    "            predicted_labels.append(y_predicted.argmax(dim=1).cpu())\n",
    "\n",
    "    predicted_labels = torch.cat(predicted_labels)\n",
    "    predicted_labels = \",\".join([str(x.item()) for x in list(predicted_labels)])\n",
    "    return predicted_labels\n",
    "\n",
    "\n",
    "def get_accuracy(model, data_loader):\n",
    "    predicted_labels = []\n",
    "    real_labels = []\n",
    "    model.eval()\n",
    "    with torch.no_grad():\n",
    "        for batch in data_loader:\n",
    "            y_predicted = model(batch[0].to(device))\n",
    "            predicted_labels.append(y_predicted.argmax(dim=1).cpu())\n",
    "            real_labels.append(batch[1])\n",
    "\n",
    "    predicted_labels = torch.cat(predicted_labels)\n",
    "    real_labels = torch.cat(real_labels)\n",
    "    accuracy_score = (predicted_labels == real_labels).type(torch.FloatTensor).mean()\n",
    "    return accuracy_score\n",
    "\n",
    "\n",
    "# __________end of block__________"
   ]
  },
  {
   "cell_type": "markdown",
   "metadata": {},
   "source": [
    "Загрузите файл `hw_overfitting_data_dict.npy` (ссылка есть на странице с заданием), он понадобится для генерации посылок. Код ниже может его загрузить (но в случае возникновения ошибки скачайте и загрузите его вручную).\n"
   ]
  },
  {
   "cell_type": "code",
   "execution_count": 3,
   "metadata": {},
   "outputs": [
    {
     "name": "stdout",
     "output_type": "stream",
     "text": [
      "--2025-04-23 11:07:52--  https://github.com/girafe-ai/ml-course/raw/24f_ysda/homeworks/hw_overfitting/hw_overfitting_data_dict\n",
      "Resolving github.com (github.com)... 140.82.121.4\n",
      "Connecting to github.com (github.com)|140.82.121.4|:443... connected.\n",
      "HTTP request sent, awaiting response... 302 Found\n",
      "Location: https://raw.githubusercontent.com/girafe-ai/ml-course/24f_ysda/homeworks/hw_overfitting/hw_overfitting_data_dict [following]\n",
      "--2025-04-23 11:07:53--  https://raw.githubusercontent.com/girafe-ai/ml-course/24f_ysda/homeworks/hw_overfitting/hw_overfitting_data_dict\n",
      "Resolving raw.githubusercontent.com (raw.githubusercontent.com)... 185.199.108.133, 185.199.111.133, 185.199.110.133, ...\n",
      "Connecting to raw.githubusercontent.com (raw.githubusercontent.com)|185.199.108.133|:443... connected.\n",
      "HTTP request sent, awaiting response... 200 OK\n",
      "Length: 6272446 (6.0M) [application/octet-stream]\n",
      "Saving to: ‘hw_overfitting_data_dict.npy’\n",
      "\n",
      "hw_overfitting_data 100%[===================>]   5.98M  2.41MB/s    in 2.5s    \n",
      "\n",
      "2025-04-23 11:07:56 (2.41 MB/s) - ‘hw_overfitting_data_dict.npy’ saved [6272446/6272446]\n",
      "\n"
     ]
    }
   ],
   "source": [
    "!wget https://github.com/girafe-ai/ml-course/raw/24f_ysda/homeworks/hw_overfitting/hw_overfitting_data_dict -O hw_overfitting_data_dict.npy"
   ]
  },
  {
   "cell_type": "code",
   "execution_count": 4,
   "metadata": {},
   "outputs": [],
   "source": [
    "# do not change the code in the block below\n",
    "# __________start of block__________\n",
    "assert os.path.exists(\n",
    "    \"hw_overfitting_data_dict.npy\"\n",
    "), \"Please, download `hw_overfitting_data_dict.npy` and place it in the working directory\"\n",
    "\n",
    "# __________end of block__________"
   ]
  },
  {
   "cell_type": "markdown",
   "metadata": {
    "id": "zeA6Q5-CgSq7"
   },
   "source": [
    "Вернемся к задаче распознавания простых изображений, рассмотренной ранее. Но теперь будем работать с набором данных [FashionMNIST](https://github.com/zalandoresearch/fashion-mnist). В данном задании воспользуемся всем датасетом целиком.\n",
    "\n",
    "__Ваша первая задача: реализовать весь пайплан обучения модели и добиться качества $\\geq 88.5\\%$ на тестовой выборке.__\n",
    "\n",
    "Код для обучения модели в данном задании отсутствует. Присутствует лишь несколько тестов, которые помогут вам отладить свое решение. За примером можно обратиться к ноутбукам с предыдущих занятий."
   ]
  },
  {
   "cell_type": "code",
   "execution_count": 5,
   "metadata": {},
   "outputs": [],
   "source": [
    "CUDA_DEVICE_ID = 0  # change if needed"
   ]
  },
  {
   "cell_type": "code",
   "execution_count": 6,
   "metadata": {
    "id": "nPG1KbQAgl8b"
   },
   "outputs": [],
   "source": [
    "# do not change the code in the block below\n",
    "# __________start of block__________\n",
    "device = (\n",
    "    torch.device(f\"cuda:{CUDA_DEVICE_ID}\") if torch.cuda.is_available() else torch.device(\"cpu\")\n",
    ")\n",
    "# __________end of block__________"
   ]
  },
  {
   "cell_type": "code",
   "execution_count": 7,
   "metadata": {
    "colab": {
     "base_uri": "https://localhost:8080/",
     "height": 809
    },
    "id": "aYcL28OsgSq8",
    "outputId": "93aafa07-fb56-43bd-f928-918f45fe30e6"
   },
   "outputs": [
    {
     "data": {
      "text/plain": [
       "Text(0.5, 1.0, 'Image label: 0')"
      ]
     },
     "execution_count": 7,
     "metadata": {},
     "output_type": "execute_result"
    },
    {
     "data": {
      "image/png": "[encoded data removed]",
      "text/plain": [
       "<Figure size 640x480 with 1 Axes>"
      ]
     },
     "metadata": {},
     "output_type": "display_data"
    }
   ],
   "source": [
    "# do not change the code in the block below\n",
    "# __________start of block__________\n",
    "\n",
    "train_fmnist_data = FashionMNIST(\n",
    "    \".\", train=True, transform=torchvision.transforms.ToTensor(), download=True\n",
    ")\n",
    "test_fmnist_data = FashionMNIST(\n",
    "    \".\", train=False, transform=torchvision.transforms.ToTensor(), download=True\n",
    ")\n",
    "\n",
    "\n",
    "train_data_loader = torch.utils.data.DataLoader(\n",
    "    train_fmnist_data, batch_size=32, shuffle=True, num_workers=2\n",
    ")\n",
    "\n",
    "test_data_loader = torch.utils.data.DataLoader(\n",
    "    test_fmnist_data, batch_size=32, shuffle=False, num_workers=2\n",
    ")\n",
    "\n",
    "random_batch = next(iter(train_data_loader))\n",
    "_image, _label = random_batch[0][0], random_batch[1][0]\n",
    "plt.figure()\n",
    "plt.imshow(_image.reshape(28, 28))\n",
    "plt.title(f\"Image label: {_label}\")\n",
    "# __________end of block__________"
   ]
  },
  {
   "cell_type": "markdown",
   "metadata": {
    "id": "S6jWRv1rgSq8"
   },
   "source": [
    "Постройте модель ниже. Пожалуйста, не стройте переусложненную сеть, не стоит делать ее глубже четырех слоев (можно и меньше). Ваша основная задача – обучить модель и получить качество на отложенной (тестовой выборке) не менее 88.5% accuracy.\n",
    "\n",
    "__Внимание, ваша модель должна быть представлена именно переменной `model_task_1`. На вход ей должен приходить тензор размерностью (1, 28, 28).__"
   ]
  },
  {
   "cell_type": "code",
   "execution_count": null,
   "metadata": {
    "id": "BcyEFX-RgSq8"
   },
   "outputs": [
    {
     "name": "stdout",
     "output_type": "stream",
     "text": [
      "Using cpu device\n",
      "NeuralNetwork(\n",
      "  (flatten): Flatten(start_dim=1, end_dim=-1)\n",
      "  (linear_relu_stack): Sequential(\n",
      "    (0): Linear(in_features=784, out_features=512, bias=True)\n",
      "    (1): ReLU()\n",
      "    (2): Linear(in_features=512, out_features=512, bias=True)\n",
      "    (3): ReLU()\n",
      "    (4): Linear(in_features=512, out_features=10, bias=True)\n",
      "  )\n",
      ")\n"
     ]
    }
   ],
   "source": [
    "# Creating model instance\n",
    "model_task_1 = None\n",
    "# your code here\n",
    "\n",
    "#device = torch.accelerator.current_accelerator().type if torch.accelerator.is_available() else \"cpu\"\n",
    "device = 'cpu'\n",
    "print(f\"Using {device} device\")\n",
    "\n",
    "# Define model\n",
    "class NeuralNetwork(nn.Module):\n",
    "    def __init__(self):\n",
    "        super().__init__()\n",
    "        self.flatten = nn.Flatten()\n",
    "        self.linear_relu_stack = nn.Sequential(\n",
    "            nn.Linear(28*28, 512),\n",
    "            nn.ReLU(),\n",
    "            nn.Linear(512, 512),\n",
    "            nn.ReLU(),\n",
    "            nn.Linear(512, 10)\n",
    "        )\n",
    "\n",
    "    def forward(self, x):\n",
    "        x = self.flatten(x)\n",
    "        logits = self.linear_relu_stack(x)\n",
    "        return logits\n",
    "\n",
    "model_task_1 = NeuralNetwork().to(device)\n",
    "print(model_task_1)"
   ]
  },
  {
   "cell_type": "markdown",
   "metadata": {
    "id": "bAoLV4dkoy5M"
   },
   "source": [
    "Не забудьте перенести модель на выбранный `device`!"
   ]
  },
  {
   "cell_type": "code",
   "execution_count": 9,
   "metadata": {
    "id": "Xas9SIXDoxvZ"
   },
   "outputs": [
    {
     "data": {
      "text/plain": [
       "NeuralNetwork(\n",
       "  (flatten): Flatten(start_dim=1, end_dim=-1)\n",
       "  (linear_relu_stack): Sequential(\n",
       "    (0): Linear(in_features=784, out_features=512, bias=True)\n",
       "    (1): ReLU()\n",
       "    (2): Linear(in_features=512, out_features=512, bias=True)\n",
       "    (3): ReLU()\n",
       "    (4): Linear(in_features=512, out_features=10, bias=True)\n",
       "  )\n",
       ")"
      ]
     },
     "execution_count": 9,
     "metadata": {},
     "output_type": "execute_result"
    }
   ],
   "source": [
    "model_task_1.to(device)"
   ]
  },
  {
   "cell_type": "markdown",
   "metadata": {
    "id": "6pLRWysggSq9"
   },
   "source": [
    "Локальные тесты для проверки вашей модели доступны ниже:"
   ]
  },
  {
   "cell_type": "code",
   "execution_count": 10,
   "metadata": {
    "colab": {
     "base_uri": "https://localhost:8080/"
    },
    "id": "_qMQzo1ggSq9",
    "outputId": "c00008eb-ef88-4000-ce47-e8dedd26e061"
   },
   "outputs": [
    {
     "name": "stdout",
     "output_type": "stream",
     "text": [
      "Everything seems fine!\n"
     ]
    }
   ],
   "source": [
    "# do not change the code in the block below\n",
    "# __________start of block__________\n",
    "assert model_task_1 is not None, \"Please, use `model_task_1` variable to store your model\"\n",
    "\n",
    "try:\n",
    "    x = random_batch[0].to(device)\n",
    "    y = random_batch[1].to(device)\n",
    "\n",
    "    # compute outputs given inputs, both are variables\n",
    "    y_predicted = model_task_1(x)\n",
    "except Exception as e:\n",
    "    print(\"Something is wrong with the model\")\n",
    "    raise e\n",
    "\n",
    "\n",
    "assert y_predicted.shape[-1] == 10, \"Model should predict 10 logits/probas\"\n",
    "\n",
    "print(\"Everything seems fine!\")\n",
    "# __________end of block__________"
   ]
  },
  {
   "cell_type": "markdown",
   "metadata": {
    "id": "suRmIPwIgSq9"
   },
   "source": [
    "Настройте параметры модели на обучающей выборке. Также рекомендуем поработать с `learning rate`."
   ]
  },
  {
   "cell_type": "code",
   "execution_count": 11,
   "metadata": {
    "id": "YJnU14bdnZa_"
   },
   "outputs": [
    {
     "name": "stdout",
     "output_type": "stream",
     "text": [
      "0.1\n",
      "Epoch 1\n",
      "-------------------------------\n",
      "loss: 2.290497  [   32/60000]\n",
      "loss: 2.159484  [ 3232/60000]\n",
      "loss: 1.851472  [ 6432/60000]\n",
      "loss: 1.514433  [ 9632/60000]\n",
      "loss: 1.420627  [12832/60000]\n",
      "loss: 1.107104  [16032/60000]\n",
      "loss: 1.014479  [19232/60000]\n",
      "loss: 0.805017  [22432/60000]\n",
      "loss: 0.713679  [25632/60000]\n",
      "loss: 0.836353  [28832/60000]\n",
      "loss: 0.799331  [32032/60000]\n",
      "loss: 0.725335  [35232/60000]\n",
      "loss: 0.567776  [38432/60000]\n",
      "loss: 0.480651  [41632/60000]\n",
      "loss: 0.580778  [44832/60000]\n",
      "loss: 0.582932  [48032/60000]\n",
      "loss: 1.164594  [51232/60000]\n",
      "loss: 0.843041  [54432/60000]\n",
      "loss: 0.649640  [57632/60000]\n",
      "Test Error: \n",
      " Accuracy: 77.7%, Avg loss: 0.632684 \n",
      "\n",
      "Epoch 2\n",
      "-------------------------------\n",
      "loss: 0.421125  [   32/60000]\n",
      "loss: 0.633655  [ 3232/60000]\n",
      "loss: 0.528077  [ 6432/60000]\n",
      "loss: 0.450172  [ 9632/60000]\n",
      "loss: 0.793200  [12832/60000]\n",
      "loss: 0.486286  [16032/60000]\n",
      "loss: 0.635514  [19232/60000]\n",
      "loss: 0.755946  [22432/60000]\n",
      "loss: 0.677454  [25632/60000]\n",
      "loss: 0.410570  [28832/60000]\n",
      "loss: 0.634096  [32032/60000]\n",
      "loss: 0.603142  [35232/60000]\n",
      "loss: 0.295230  [38432/60000]\n",
      "loss: 0.630782  [41632/60000]\n",
      "loss: 0.747365  [44832/60000]\n",
      "loss: 0.381751  [48032/60000]\n",
      "loss: 0.604015  [51232/60000]\n",
      "loss: 0.514317  [54432/60000]\n",
      "loss: 0.419125  [57632/60000]\n",
      "Test Error: \n",
      " Accuracy: 81.2%, Avg loss: 0.541312 \n",
      "\n",
      "Epoch 3\n",
      "-------------------------------\n",
      "loss: 0.468625  [   32/60000]\n",
      "loss: 0.277652  [ 3232/60000]\n",
      "loss: 0.539455  [ 6432/60000]\n",
      "loss: 0.557416  [ 9632/60000]\n",
      "loss: 0.341440  [12832/60000]\n",
      "loss: 0.522348  [16032/60000]\n",
      "loss: 0.407623  [19232/60000]\n",
      "loss: 0.657916  [22432/60000]\n",
      "loss: 0.482213  [25632/60000]\n",
      "loss: 0.356886  [28832/60000]\n",
      "loss: 0.409713  [32032/60000]\n",
      "loss: 0.741370  [35232/60000]\n",
      "loss: 0.500065  [38432/60000]\n",
      "loss: 0.559882  [41632/60000]\n",
      "loss: 0.578546  [44832/60000]\n",
      "loss: 0.558793  [48032/60000]\n",
      "loss: 0.699858  [51232/60000]\n",
      "loss: 0.348504  [54432/60000]\n",
      "loss: 0.466979  [57632/60000]\n",
      "Test Error: \n",
      " Accuracy: 82.9%, Avg loss: 0.480948 \n",
      "\n",
      "Epoch 4\n",
      "-------------------------------\n",
      "loss: 0.706583  [   32/60000]\n",
      "loss: 0.630770  [ 3232/60000]\n",
      "loss: 0.502367  [ 6432/60000]\n",
      "loss: 0.428792  [ 9632/60000]\n",
      "loss: 0.768865  [12832/60000]\n",
      "loss: 0.324471  [16032/60000]\n",
      "loss: 0.308458  [19232/60000]\n",
      "loss: 0.347552  [22432/60000]\n",
      "loss: 0.708936  [25632/60000]\n",
      "loss: 0.544689  [28832/60000]\n",
      "loss: 0.393505  [32032/60000]\n",
      "loss: 0.799166  [35232/60000]\n",
      "loss: 0.290417  [38432/60000]\n",
      "loss: 0.539658  [41632/60000]\n",
      "loss: 0.490954  [44832/60000]\n",
      "loss: 0.269229  [48032/60000]\n",
      "loss: 0.802080  [51232/60000]\n",
      "loss: 0.516232  [54432/60000]\n",
      "loss: 0.352570  [57632/60000]\n",
      "Test Error: \n",
      " Accuracy: 83.2%, Avg loss: 0.467003 \n",
      "\n",
      "Epoch 5\n",
      "-------------------------------\n",
      "loss: 0.508480  [   32/60000]\n",
      "loss: 0.333958  [ 3232/60000]\n",
      "loss: 0.303051  [ 6432/60000]\n",
      "loss: 0.369411  [ 9632/60000]\n",
      "loss: 0.542796  [12832/60000]\n",
      "loss: 0.509166  [16032/60000]\n",
      "loss: 0.367106  [19232/60000]\n",
      "loss: 0.490651  [22432/60000]\n",
      "loss: 0.323268  [25632/60000]\n",
      "loss: 0.381428  [28832/60000]\n",
      "loss: 0.554003  [32032/60000]\n",
      "loss: 0.359647  [35232/60000]\n",
      "loss: 0.229438  [38432/60000]\n",
      "loss: 0.537083  [41632/60000]\n",
      "loss: 0.313914  [44832/60000]\n",
      "loss: 0.340212  [48032/60000]\n",
      "loss: 0.416878  [51232/60000]\n",
      "loss: 0.156155  [54432/60000]\n",
      "loss: 0.310720  [57632/60000]\n",
      "Test Error: \n",
      " Accuracy: 84.4%, Avg loss: 0.443875 \n",
      "\n",
      "Epoch 6\n",
      "-------------------------------\n",
      "loss: 0.353356  [   32/60000]\n",
      "loss: 0.371698  [ 3232/60000]\n",
      "loss: 0.431965  [ 6432/60000]\n",
      "loss: 0.547581  [ 9632/60000]\n",
      "loss: 0.294800  [12832/60000]\n",
      "loss: 0.584921  [16032/60000]\n",
      "loss: 0.356340  [19232/60000]\n",
      "loss: 0.307851  [22432/60000]\n",
      "loss: 0.139032  [25632/60000]\n",
      "loss: 0.582267  [28832/60000]\n",
      "loss: 0.474966  [32032/60000]\n",
      "loss: 0.549118  [35232/60000]\n",
      "loss: 0.649397  [38432/60000]\n",
      "loss: 0.137412  [41632/60000]\n",
      "loss: 0.940404  [44832/60000]\n",
      "loss: 0.393896  [48032/60000]\n",
      "loss: 0.499442  [51232/60000]\n",
      "loss: 0.332692  [54432/60000]\n",
      "loss: 0.382676  [57632/60000]\n",
      "Test Error: \n",
      " Accuracy: 85.0%, Avg loss: 0.425938 \n",
      "\n",
      "Epoch 7\n",
      "-------------------------------\n",
      "loss: 0.260638  [   32/60000]\n",
      "loss: 0.424744  [ 3232/60000]\n",
      "loss: 0.418494  [ 6432/60000]\n",
      "loss: 0.212154  [ 9632/60000]\n",
      "loss: 0.239112  [12832/60000]\n",
      "loss: 0.323109  [16032/60000]\n",
      "loss: 0.370484  [19232/60000]\n",
      "loss: 0.617715  [22432/60000]\n",
      "loss: 0.611378  [25632/60000]\n",
      "loss: 0.497893  [28832/60000]\n",
      "loss: 0.525435  [32032/60000]\n",
      "loss: 0.297661  [35232/60000]\n",
      "loss: 0.400466  [38432/60000]\n",
      "loss: 0.218090  [41632/60000]\n",
      "loss: 0.428684  [44832/60000]\n",
      "loss: 0.407629  [48032/60000]\n",
      "loss: 0.492086  [51232/60000]\n",
      "loss: 0.299364  [54432/60000]\n",
      "loss: 0.226774  [57632/60000]\n",
      "Test Error: \n",
      " Accuracy: 84.8%, Avg loss: 0.433440 \n",
      "\n",
      "Epoch 8\n",
      "-------------------------------\n",
      "loss: 0.384839  [   32/60000]\n",
      "loss: 0.280815  [ 3232/60000]\n",
      "loss: 0.362716  [ 6432/60000]\n",
      "loss: 0.490530  [ 9632/60000]\n",
      "loss: 0.475035  [12832/60000]\n",
      "loss: 0.338894  [16032/60000]\n",
      "loss: 0.332618  [19232/60000]\n",
      "loss: 0.531805  [22432/60000]\n",
      "loss: 0.280141  [25632/60000]\n",
      "loss: 0.396282  [28832/60000]\n",
      "loss: 0.190126  [32032/60000]\n",
      "loss: 0.348826  [35232/60000]\n",
      "loss: 0.310589  [38432/60000]\n",
      "loss: 0.257822  [41632/60000]\n",
      "loss: 0.338058  [44832/60000]\n",
      "loss: 0.383926  [48032/60000]\n",
      "loss: 0.211277  [51232/60000]\n",
      "loss: 0.310049  [54432/60000]\n",
      "loss: 0.444720  [57632/60000]\n",
      "Test Error: \n",
      " Accuracy: 85.7%, Avg loss: 0.406062 \n",
      "\n",
      "Epoch 9\n",
      "-------------------------------\n",
      "loss: 0.399210  [   32/60000]\n",
      "loss: 0.630481  [ 3232/60000]\n",
      "loss: 0.366204  [ 6432/60000]\n",
      "loss: 0.343505  [ 9632/60000]\n",
      "loss: 0.256747  [12832/60000]\n",
      "loss: 0.316113  [16032/60000]\n",
      "loss: 0.305828  [19232/60000]\n",
      "loss: 0.345673  [22432/60000]\n",
      "loss: 0.476538  [25632/60000]\n",
      "loss: 0.309761  [28832/60000]\n",
      "loss: 0.156927  [32032/60000]\n",
      "loss: 0.310998  [35232/60000]\n",
      "loss: 0.162886  [38432/60000]\n",
      "loss: 0.227739  [41632/60000]\n",
      "loss: 0.351597  [44832/60000]\n",
      "loss: 0.334277  [48032/60000]\n",
      "loss: 0.519344  [51232/60000]\n",
      "loss: 0.278888  [54432/60000]\n",
      "loss: 0.374240  [57632/60000]\n",
      "Test Error: \n",
      " Accuracy: 85.4%, Avg loss: 0.405506 \n",
      "\n",
      "Epoch 10\n",
      "-------------------------------\n",
      "loss: 0.294068  [   32/60000]\n",
      "loss: 0.452778  [ 3232/60000]\n",
      "loss: 0.573367  [ 6432/60000]\n",
      "loss: 0.667583  [ 9632/60000]\n",
      "loss: 0.166793  [12832/60000]\n",
      "loss: 0.664107  [16032/60000]\n",
      "loss: 0.614484  [19232/60000]\n",
      "loss: 0.308609  [22432/60000]\n",
      "loss: 0.219748  [25632/60000]\n",
      "loss: 0.395653  [28832/60000]\n",
      "loss: 0.496135  [32032/60000]\n",
      "loss: 0.347961  [35232/60000]\n",
      "loss: 0.306287  [38432/60000]\n",
      "loss: 0.822454  [41632/60000]\n",
      "loss: 0.310299  [44832/60000]\n",
      "loss: 0.296018  [48032/60000]\n",
      "loss: 0.448509  [51232/60000]\n",
      "loss: 0.324734  [54432/60000]\n",
      "loss: 0.237772  [57632/60000]\n",
      "Test Error: \n",
      " Accuracy: 86.1%, Avg loss: 0.390188 \n",
      "\n",
      "Epoch 11\n",
      "-------------------------------\n",
      "loss: 0.405594  [   32/60000]\n",
      "loss: 0.331210  [ 3232/60000]\n",
      "loss: 0.253116  [ 6432/60000]\n",
      "loss: 0.277727  [ 9632/60000]\n",
      "loss: 0.370836  [12832/60000]\n",
      "loss: 0.510193  [16032/60000]\n",
      "loss: 0.374000  [19232/60000]\n",
      "loss: 0.284639  [22432/60000]\n",
      "loss: 0.308339  [25632/60000]\n",
      "loss: 0.727565  [28832/60000]\n",
      "loss: 0.353777  [32032/60000]\n",
      "loss: 0.358405  [35232/60000]\n",
      "loss: 0.219979  [38432/60000]\n",
      "loss: 0.208157  [41632/60000]\n",
      "loss: 0.416036  [44832/60000]\n",
      "loss: 0.267010  [48032/60000]\n",
      "loss: 0.196838  [51232/60000]\n",
      "loss: 0.344508  [54432/60000]\n",
      "loss: 0.226832  [57632/60000]\n",
      "Test Error: \n",
      " Accuracy: 86.6%, Avg loss: 0.383642 \n",
      "\n",
      "Epoch 12\n",
      "-------------------------------\n",
      "loss: 0.358649  [   32/60000]\n",
      "loss: 0.239888  [ 3232/60000]\n",
      "loss: 0.198343  [ 6432/60000]\n",
      "loss: 0.305880  [ 9632/60000]\n",
      "loss: 0.163234  [12832/60000]\n",
      "loss: 0.442392  [16032/60000]\n",
      "loss: 0.430254  [19232/60000]\n",
      "loss: 0.412675  [22432/60000]\n",
      "loss: 0.570058  [25632/60000]\n",
      "loss: 0.304974  [28832/60000]\n",
      "loss: 0.526334  [32032/60000]\n",
      "loss: 0.125076  [35232/60000]\n",
      "loss: 0.447943  [38432/60000]\n",
      "loss: 0.383184  [41632/60000]\n",
      "loss: 0.537754  [44832/60000]\n",
      "loss: 0.314109  [48032/60000]\n",
      "loss: 0.353391  [51232/60000]\n",
      "loss: 0.451331  [54432/60000]\n",
      "loss: 0.218201  [57632/60000]\n",
      "Test Error: \n",
      " Accuracy: 86.7%, Avg loss: 0.378693 \n",
      "\n",
      "Epoch 13\n",
      "-------------------------------\n",
      "loss: 0.323137  [   32/60000]\n",
      "loss: 0.503929  [ 3232/60000]\n",
      "loss: 0.451098  [ 6432/60000]\n",
      "loss: 0.249946  [ 9632/60000]\n",
      "loss: 0.324610  [12832/60000]\n",
      "loss: 0.576091  [16032/60000]\n",
      "loss: 0.293175  [19232/60000]\n",
      "loss: 0.494319  [22432/60000]\n",
      "loss: 0.356355  [25632/60000]\n",
      "loss: 0.456173  [28832/60000]\n",
      "loss: 0.405943  [32032/60000]\n",
      "loss: 0.211404  [35232/60000]\n",
      "loss: 0.392690  [38432/60000]\n",
      "loss: 0.399286  [41632/60000]\n",
      "loss: 0.368824  [44832/60000]\n",
      "loss: 0.358887  [48032/60000]\n",
      "loss: 0.595944  [51232/60000]\n",
      "loss: 0.206918  [54432/60000]\n",
      "loss: 0.480179  [57632/60000]\n",
      "Test Error: \n",
      " Accuracy: 86.5%, Avg loss: 0.371340 \n",
      "\n",
      "Epoch 14\n",
      "-------------------------------\n",
      "loss: 0.311089  [   32/60000]\n",
      "loss: 0.243578  [ 3232/60000]\n",
      "loss: 0.131217  [ 6432/60000]\n",
      "loss: 0.529252  [ 9632/60000]\n",
      "loss: 0.329206  [12832/60000]\n",
      "loss: 0.375771  [16032/60000]\n",
      "loss: 0.058080  [19232/60000]\n",
      "loss: 0.252776  [22432/60000]\n",
      "loss: 0.305840  [25632/60000]\n",
      "loss: 0.399277  [28832/60000]\n",
      "loss: 0.225946  [32032/60000]\n",
      "loss: 0.418595  [35232/60000]\n",
      "loss: 0.462102  [38432/60000]\n",
      "loss: 0.280300  [41632/60000]\n",
      "loss: 0.132656  [44832/60000]\n",
      "loss: 0.325399  [48032/60000]\n",
      "loss: 0.315558  [51232/60000]\n",
      "loss: 0.732901  [54432/60000]\n",
      "loss: 0.343071  [57632/60000]\n",
      "Test Error: \n",
      " Accuracy: 86.9%, Avg loss: 0.363057 \n",
      "\n",
      "Epoch 15\n",
      "-------------------------------\n",
      "loss: 0.596179  [   32/60000]\n",
      "loss: 0.221138  [ 3232/60000]\n",
      "loss: 0.218633  [ 6432/60000]\n",
      "loss: 0.496744  [ 9632/60000]\n",
      "loss: 0.333351  [12832/60000]\n",
      "loss: 0.215229  [16032/60000]\n",
      "loss: 0.293146  [19232/60000]\n",
      "loss: 0.380615  [22432/60000]\n",
      "loss: 0.402185  [25632/60000]\n",
      "loss: 0.096214  [28832/60000]\n",
      "loss: 0.137226  [32032/60000]\n",
      "loss: 0.264372  [35232/60000]\n",
      "loss: 0.117516  [38432/60000]\n",
      "loss: 0.405293  [41632/60000]\n",
      "loss: 0.169276  [44832/60000]\n",
      "loss: 0.436071  [48032/60000]\n",
      "loss: 0.430842  [51232/60000]\n",
      "loss: 0.241079  [54432/60000]\n",
      "loss: 0.351531  [57632/60000]\n",
      "Test Error: \n",
      " Accuracy: 87.2%, Avg loss: 0.358526 \n",
      "\n",
      "Done!\n"
     ]
    }
   ],
   "source": [
    "# your code here\n",
    "\n",
    "loss_fn = nn.CrossEntropyLoss()\n",
    "optimizer = torch.optim.SGD(model_task_1.parameters(), lr=0.01)\n",
    "\n",
    "def train(dataloader, model, loss_fn, optimizer):\n",
    "    size = len(dataloader.dataset)\n",
    "    model.train()\n",
    "    for batch, (X, y) in enumerate(dataloader):\n",
    "        X, y = X.to(device), y.to(device)\n",
    "\n",
    "        # Compute prediction error\n",
    "        pred = model(X)\n",
    "        loss = loss_fn(pred, y)\n",
    "\n",
    "        # Backpropagation\n",
    "        loss.backward()\n",
    "        optimizer.step()\n",
    "        optimizer.zero_grad()\n",
    "\n",
    "        if batch % 100 == 0:\n",
    "            loss, current = loss.item(), (batch + 1) * len(X)\n",
    "            print(f\"loss: {loss:>7f}  [{current:>5d}/{size:>5d}]\")\n",
    "\n",
    "\n",
    "def test(dataloader, model, loss_fn):\n",
    "    size = len(dataloader.dataset)\n",
    "    num_batches = len(dataloader)\n",
    "    model.eval()\n",
    "    test_loss, correct = 0, 0\n",
    "    with torch.no_grad():\n",
    "        for X, y in dataloader:\n",
    "            X, y = X.to(device), y.to(device)\n",
    "            pred = model(X)\n",
    "            test_loss += loss_fn(pred, y).item()\n",
    "            correct += (pred.argmax(1) == y).type(torch.float).sum().item()\n",
    "    test_loss /= num_batches\n",
    "    correct /= size\n",
    "    print(f\"Test Error: \\n Accuracy: {(100*correct):>0.1f}%, Avg loss: {test_loss:>8f} \\n\")\n",
    "\n",
    "print(1e-1)\n",
    "epochs = 15 # 20 -> 0,91 0,883\n",
    "for t in range(epochs):\n",
    "    print(f\"Epoch {t+1}\\n-------------------------------\")\n",
    "    train(train_data_loader, model_task_1, loss_fn, optimizer)\n",
    "    test(test_data_loader, model_task_1, loss_fn)\n",
    "print(\"Done!\")"
   ]
  },
  {
   "cell_type": "markdown",
   "metadata": {
    "id": "2zce7gt1gSq-"
   },
   "source": [
    "Также, напоминаем, что в любой момент можно обратиться к замечательной [документации](https://pytorch.org/docs/stable/index.html) и [обучающим примерам](https://pytorch.org/tutorials/).  "
   ]
  },
  {
   "cell_type": "markdown",
   "metadata": {
    "id": "usswrWYOgSq-"
   },
   "source": [
    "Оценим качество классификации:"
   ]
  },
  {
   "cell_type": "code",
   "execution_count": 12,
   "metadata": {
    "id": "Xua3TVZHgSq-"
   },
   "outputs": [
    {
     "name": "stdout",
     "output_type": "stream",
     "text": [
      "Neural network accuracy on train set: 0.89245\n"
     ]
    }
   ],
   "source": [
    "train_acc_task_1 = get_accuracy(model_task_1, train_data_loader)\n",
    "print(f\"Neural network accuracy on train set: {train_acc_task_1:3.5}\")"
   ]
  },
  {
   "cell_type": "code",
   "execution_count": 13,
   "metadata": {
    "id": "l9KEKXBxgSq-"
   },
   "outputs": [
    {
     "name": "stdout",
     "output_type": "stream",
     "text": [
      "Neural network accuracy on test set: 0.8715\n"
     ]
    }
   ],
   "source": [
    "test_acc_task_1 = get_accuracy(model_task_1, test_data_loader)\n",
    "print(f\"Neural network accuracy on test set: {test_acc_task_1:3.5}\")"
   ]
  },
  {
   "cell_type": "markdown",
   "metadata": {
    "id": "4oyhmMobgSq_"
   },
   "source": [
    "Проверка, что необходимые пороги пройдены:"
   ]
  },
  {
   "cell_type": "code",
   "execution_count": 14,
   "metadata": {
    "colab": {
     "base_uri": "https://localhost:8080/",
     "height": 181
    },
    "id": "OAIrURCEgSq_",
    "outputId": "7c983690-a92e-4693-89fb-7c86c002921a"
   },
   "outputs": [
    {
     "ename": "AssertionError",
     "evalue": "Train accuracy is below 0.885 threshold",
     "output_type": "error",
     "traceback": [
      "\u001b[0;31m---------------------------------------------------------------------------\u001b[0m",
      "\u001b[0;31mAssertionError\u001b[0m                            Traceback (most recent call last)",
      "Cell \u001b[0;32mIn[14], line 1\u001b[0m\n\u001b[0;32m----> 1\u001b[0m \u001b[38;5;28;01massert\u001b[39;00m test_acc_task_1 \u001b[38;5;241m>\u001b[39m\u001b[38;5;241m=\u001b[39m \u001b[38;5;241m0.885\u001b[39m, \u001b[38;5;124m\"\u001b[39m\u001b[38;5;124mTrain accuracy is below 0.885 threshold\u001b[39m\u001b[38;5;124m\"\u001b[39m\n\u001b[1;32m      2\u001b[0m \u001b[38;5;28;01massert\u001b[39;00m (\n\u001b[1;32m      3\u001b[0m     train_acc_task_1 \u001b[38;5;241m>\u001b[39m\u001b[38;5;241m=\u001b[39m \u001b[38;5;241m0.905\u001b[39m\n\u001b[1;32m      4\u001b[0m ), \u001b[38;5;124m\"\u001b[39m\u001b[38;5;124mTrain accuracy is below 0.905 while test accuracy is fine. We recommend to check your model and data flow\u001b[39m\u001b[38;5;124m\"\u001b[39m\n",
      "\u001b[0;31mAssertionError\u001b[0m: Train accuracy is below 0.885 threshold"
     ]
    }
   ],
   "source": [
    "assert test_acc_task_1 >= 0.885, \"Train accuracy is below 0.885 threshold\"\n",
    "assert (\n",
    "    train_acc_task_1 >= 0.905\n",
    "), \"Train accuracy is below 0.905 while test accuracy is fine. We recommend to check your model and data flow\""
   ]
  },
  {
   "cell_type": "markdown",
   "metadata": {},
   "source": [
    "Обращаем внимане, код ниже предполагает, что ваша модель имеет содержится в переменной `model_task_1`, а файл `hw_fmnist_data_dict.npy` находится в той же директории, что и ноутбук (он доступен в репозитории)."
   ]
  },
  {
   "cell_type": "code",
   "execution_count": null,
   "metadata": {},
   "outputs": [
    {
     "name": "stdout",
     "output_type": "stream",
     "text": [
      "File saved to `submission_dict_fmnist_task_1.json`\n"
     ]
    }
   ],
   "source": [
    "# do not change the code in the block below\n",
    "# __________start of block__________\n",
    "assert os.path.exists(\n",
    "    \"hw_fmnist_data_dict.npy\"\n",
    "), \"Please, download `hw_fmnist_data_dict.npy` and place it in the working directory\"\n",
    "\n",
    "loaded_data_dict = np.load(\"hw_fmnist_data_dict.npy\", allow_pickle=True)\n",
    "\n",
    "submission_dict = {\n",
    "    \"train_predictions_task_1\": get_predictions(\n",
    "        model_task_1, torch.FloatTensor(loaded_data_dict.item()[\"train\"])\n",
    "    ),\n",
    "    \"test_predictions_task_1\": get_predictions(\n",
    "        model_task_1, torch.FloatTensor(loaded_data_dict.item()[\"test\"])\n",
    "    ),\n",
    "}\n",
    "\n",
    "with open(\"submission_dict_fmnist_task_1.json\", \"w\") as iofile:\n",
    "    json.dump(submission_dict, iofile)\n",
    "print(\"File saved to `submission_dict_fmnist_task_1.json`\")\n",
    "# __________end of block__________"
   ]
  },
  {
   "cell_type": "markdown",
   "metadata": {},
   "source": [
    "### Сдача задания\n",
    "Сдайте сгенерированный файл в соответствующую задачу в соревновании, а именно:\n",
    "    \n",
    "* `submission_dict_fmnist_task_1.json` в задачу Separation"
   ]
  },
  {
   "cell_type": "markdown",
   "metadata": {
    "id": "OtWnYAN_gSrA"
   },
   "source": [
    "На этом задание завершено. Поздравляем!"
   ]
  }
 ],
 "metadata": {
  "accelerator": "GPU",
  "colab": {
   "gpuType": "T4",
   "provenance": []
  },
  "kernelspec": {
   "display_name": "mlhw1",
   "language": "python",
   "name": "python3"
  },
  "language_info": {
   "codemirror_mode": {
    "name": "ipython",
    "version": 3
   },
   "file_extension": ".py",
   "mimetype": "text/x-python",
   "name": "python",
   "nbconvert_exporter": "python",
   "pygments_lexer": "ipython3",
   "version": "3.10.16"
  },
  "toc": {
   "base_numbering": 1,
   "nav_menu": {},
   "number_sections": true,
   "sideBar": true,
   "skip_h1_title": false,
   "title_cell": "Table of Contents",
   "title_sidebar": "Contents",
   "toc_cell": false,
   "toc_position": {},
   "toc_section_display": true,
   "toc_window_display": false
  }
 },
 "nbformat": 4,
 "nbformat_minor": 4
}
