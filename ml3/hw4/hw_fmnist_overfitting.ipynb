{
 "cells": [
  {
   "cell_type": "markdown",
   "metadata": {
    "id": "nDsVMGiVgSq2"
   },
   "source": [
    "## Переобучение нейронных сетей и борьба с ним\n",
    "\n",
    "##### Автор: [Радослав Нейчев](https://www.linkedin.com/in/radoslav-neychev/), https://t.me/girafe_ai"
   ]
  },
  {
   "cell_type": "code",
   "execution_count": null,
   "metadata": {},
   "outputs": [],
   "source": []
  },
  {
   "cell_type": "code",
   "execution_count": 1,
   "metadata": {
    "id": "3isBRG6PgSq6"
   },
   "outputs": [],
   "source": [
    "# do not change the code in the block below\n",
    "# __________start of block__________\n",
    "import json\n",
    "import os\n",
    "import re\n",
    "\n",
    "import numpy as np\n",
    "import torch\n",
    "import torchvision\n",
    "from IPython.display import clear_output\n",
    "from matplotlib import pyplot as plt\n",
    "from torch import nn\n",
    "from torch.nn import functional as F\n",
    "from torchvision.datasets import FashionMNIST\n",
    "\n",
    "# __________end of block__________"
   ]
  },
  {
   "cell_type": "code",
   "execution_count": 2,
   "metadata": {},
   "outputs": [],
   "source": [
    "# do not change the code in the block below\n",
    "# __________start of block__________\n",
    "\n",
    "def args_and_kwargs(*args, **kwargs):\n",
    "    return args, kwargs\n",
    "\n",
    "def parse_pytorch_model(model_str):\n",
    "    def parse_layer(layer_str):\n",
    "        layer_name, params = layer_str.split(\"(\", 1)\n",
    "        layer_info = {\"type\": layer_name.strip()}\n",
    "        params_template = layer_str.replace(layer_name, \"args_and_kwargs\")\n",
    "        \n",
    "        param_dict = {}\n",
    "        if len(params):\n",
    "            args, kwargs = eval(params_template)\n",
    "            if len(args) or len(kwargs):\n",
    "                param_dict[\"args\"] = args\n",
    "                for name, value in kwargs.items():\n",
    "                    param_dict[name] = value\n",
    "        layer_info[\"parameters\"] = param_dict\n",
    "        return layer_info\n",
    "\n",
    "    model_dict = {}\n",
    "    lines = model_str.splitlines()\n",
    "    model_name = lines[0].strip(\"()\")\n",
    "    model_dict[\"model_name\"] = model_name\n",
    "    model_dict[\"layers\"] = []\n",
    "\n",
    "    layer_regex = re.compile(r\"\\((\\d+)\\): (.+)\")\n",
    "    for line in lines[1:]:\n",
    "        line = line.strip()\n",
    "        match = layer_regex.match(line)\n",
    "        if match:\n",
    "            index, layer = match.groups()\n",
    "            model_dict[\"layers\"].append({\"index\": int(index), \"layer\": parse_layer(layer)})\n",
    "    return model_dict\n",
    "\n",
    "# __________end of block__________"
   ]
  },
  {
   "cell_type": "code",
   "execution_count": 3,
   "metadata": {},
   "outputs": [],
   "source": [
    "# do not change the code in the block below\n",
    "# __________start of block__________\n",
    "def get_predictions(model, eval_data, step=10):\n",
    "\n",
    "    predicted_labels = []\n",
    "    model.eval()\n",
    "    with torch.no_grad():\n",
    "        for idx in range(0, len(eval_data), step):\n",
    "            y_predicted = model(eval_data[idx : idx + step].to(device))\n",
    "            predicted_labels.append(y_predicted.argmax(dim=1).cpu())\n",
    "\n",
    "    predicted_labels = torch.cat(predicted_labels)\n",
    "    predicted_labels = \",\".join([str(x.item()) for x in list(predicted_labels)])\n",
    "    return predicted_labels\n",
    "\n",
    "\n",
    "def get_accuracy(model, data_loader):\n",
    "    predicted_labels = []\n",
    "    real_labels = []\n",
    "    model.eval()\n",
    "    with torch.no_grad():\n",
    "        for batch in data_loader:\n",
    "            y_predicted = model(batch[0].to(device))\n",
    "            predicted_labels.append(y_predicted.argmax(dim=1).cpu())\n",
    "            real_labels.append(batch[1])\n",
    "\n",
    "    predicted_labels = torch.cat(predicted_labels)\n",
    "    real_labels = torch.cat(real_labels)\n",
    "    accuracy_score = (predicted_labels == real_labels).type(torch.FloatTensor).mean()\n",
    "    return accuracy_score\n",
    "\n",
    "\n",
    "# __________end of block__________"
   ]
  },
  {
   "cell_type": "markdown",
   "metadata": {},
   "source": [
    "Загрузите файл `hw_overfitting_data_dict.npy` (ссылка есть на странице с заданием), он понадобится для генерации посылок. Код ниже может его загрузить (но в случае возникновения ошибки скачайте и загрузите его вручную).\n"
   ]
  },
  {
   "cell_type": "code",
   "execution_count": 4,
   "metadata": {},
   "outputs": [
    {
     "name": "stdout",
     "output_type": "stream",
     "text": [
      "--2025-04-23 18:01:23--  https://github.com/girafe-ai/ml-course/raw/24f_ysda/homeworks/hw_overfitting/hw_overfitting_data_dict\n",
      "Resolving github.com (github.com)... 140.82.121.3\n",
      "Connecting to github.com (github.com)|140.82.121.3|:443... connected.\n",
      "HTTP request sent, awaiting response... 302 Found\n",
      "Location: https://raw.githubusercontent.com/girafe-ai/ml-course/24f_ysda/homeworks/hw_overfitting/hw_overfitting_data_dict [following]\n",
      "--2025-04-23 18:01:24--  https://raw.githubusercontent.com/girafe-ai/ml-course/24f_ysda/homeworks/hw_overfitting/hw_overfitting_data_dict\n",
      "Resolving raw.githubusercontent.com (raw.githubusercontent.com)... 185.199.109.133, 185.199.111.133, 185.199.108.133, ...\n",
      "Connecting to raw.githubusercontent.com (raw.githubusercontent.com)|185.199.109.133|:443... connected.\n",
      "HTTP request sent, awaiting response... 200 OK\n",
      "Length: 6272446 (6.0M) [application/octet-stream]\n",
      "Saving to: ‘hw_overfitting_data_dict.npy’\n",
      "\n",
      "hw_overfitting_data 100%[===================>]   5.98M   995KB/s    in 6.7s    \n",
      "\n",
      "2025-04-23 18:01:31 (919 KB/s) - ‘hw_overfitting_data_dict.npy’ saved [6272446/6272446]\n",
      "\n"
     ]
    }
   ],
   "source": [
    "!wget https://github.com/girafe-ai/ml-course/raw/24f_ysda/homeworks/hw_overfitting/hw_overfitting_data_dict -O hw_overfitting_data_dict.npy"
   ]
  },
  {
   "cell_type": "code",
   "execution_count": 5,
   "metadata": {},
   "outputs": [],
   "source": [
    "# do not change the code in the block below\n",
    "# __________start of block__________\n",
    "assert os.path.exists(\n",
    "    \"hw_overfitting_data_dict.npy\"\n",
    "), \"Please, download `hw_overfitting_data_dict.npy` and place it in the working directory\"\n",
    "\n",
    "# __________end of block__________"
   ]
  },
  {
   "cell_type": "markdown",
   "metadata": {
    "id": "zeA6Q5-CgSq7"
   },
   "source": [
    "### Задача №1 (уже решённая): Создание и обучение модели (Separation)\n",
    "Вы уже решали эту задачу ранее, так что сейчас просто воспроизведите своё решение. Оно понадобится вам в дальнейших шагах.\n",
    "__Ваша первая задача всё та же: реализовать весь пайплан обучения модели и добиться качества $\\geq 88.5\\%$ на тестовой выборке.__\n"
   ]
  },
  {
   "cell_type": "code",
   "execution_count": 6,
   "metadata": {},
   "outputs": [],
   "source": [
    "CUDA_DEVICE_ID = 0  # change if needed"
   ]
  },
  {
   "cell_type": "code",
   "execution_count": 7,
   "metadata": {
    "id": "nPG1KbQAgl8b"
   },
   "outputs": [
    {
     "data": {
      "text/plain": [
       "device(type='cuda', index=0)"
      ]
     },
     "execution_count": 7,
     "metadata": {},
     "output_type": "execute_result"
    }
   ],
   "source": [
    "# do not change the code in the block below\n",
    "# __________start of block__________\n",
    "device = (\n",
    "    torch.device(f\"cuda:{CUDA_DEVICE_ID}\") if torch.cuda.is_available() else torch.device(\"cpu\")\n",
    ")\n",
    "# __________end of block__________\n",
    "\n",
    "device"
   ]
  },
  {
   "cell_type": "code",
   "execution_count": 8,
   "metadata": {
    "colab": {
     "base_uri": "https://localhost:8080/",
     "height": 809
    },
    "id": "aYcL28OsgSq8",
    "outputId": "93aafa07-fb56-43bd-f928-918f45fe30e6"
   },
   "outputs": [
    {
     "data": {
      "text/plain": [
       "Text(0.5, 1.0, 'Image label: 8')"
      ]
     },
     "execution_count": 8,
     "metadata": {},
     "output_type": "execute_result"
    },
    {
     "data": {
      "image/png": "[encoded data removed]",
      "text/plain": [
       "<Figure size 640x480 with 1 Axes>"
      ]
     },
     "metadata": {},
     "output_type": "display_data"
    }
   ],
   "source": [
    "# do not change the code in the block below\n",
    "# __________start of block__________\n",
    "\n",
    "train_fmnist_data = FashionMNIST(\n",
    "    \".\", train=True, transform=torchvision.transforms.ToTensor(), download=True\n",
    ")\n",
    "test_fmnist_data = FashionMNIST(\n",
    "    \".\", train=False, transform=torchvision.transforms.ToTensor(), download=True\n",
    ")\n",
    "\n",
    "\n",
    "train_data_loader = torch.utils.data.DataLoader(\n",
    "    train_fmnist_data, batch_size=32, shuffle=True, num_workers=2\n",
    ")\n",
    "\n",
    "test_data_loader = torch.utils.data.DataLoader(\n",
    "    test_fmnist_data, batch_size=32, shuffle=False, num_workers=2\n",
    ")\n",
    "\n",
    "random_batch = next(iter(train_data_loader))\n",
    "_image, _label = random_batch[0][0], random_batch[1][0]\n",
    "plt.figure()\n",
    "plt.imshow(_image.reshape(28, 28))\n",
    "plt.title(f\"Image label: {_label}\")\n",
    "# __________end of block__________"
   ]
  },
  {
   "cell_type": "markdown",
   "metadata": {
    "id": "S6jWRv1rgSq8"
   },
   "source": [
    "Постройте модель ниже. Пожалуйста, не стройте переусложненную сеть, не стоит делать ее глубже четырех слоев (можно и меньше). Ваша основная задача – обучить модель и получить качество на отложенной (тестовой выборке) не менее 88.5% accuracy.\n",
    "\n",
    "__Внимание, ваша модель должна быть представлена именно переменной `model_task_1`. На вход ей должен приходить тензор размерностью (1, 28, 28).__"
   ]
  },
  {
   "cell_type": "code",
   "execution_count": 21,
   "metadata": {
    "id": "BcyEFX-RgSq8"
   },
   "outputs": [
    {
     "data": {
      "text/plain": [
       "NeuralNetwork(\n",
       "  (flatten): Flatten(start_dim=1, end_dim=-1)\n",
       "  (linear_relu_stack): Sequential(\n",
       "    (0): Conv2d(1, 32, kernel_size=(3, 3), stride=(1, 1), padding=(1, 1))\n",
       "    (1): MaxPool2d(kernel_size=2, stride=2, padding=0, dilation=1, ceil_mode=False)\n",
       "    (2): ReLU()\n",
       "    (3): Conv2d(32, 64, kernel_size=(3, 3), stride=(1, 1), padding=(1, 1))\n",
       "    (4): MaxPool2d(kernel_size=2, stride=2, padding=0, dilation=1, ceil_mode=False)\n",
       "    (5): Flatten(start_dim=1, end_dim=-1)\n",
       "    (6): Linear(in_features=3136, out_features=10, bias=True)\n",
       "  )\n",
       ")"
      ]
     },
     "metadata": {},
     "output_type": "display_data"
    }
   ],
   "source": [
    "# Creating model instance\n",
    "model_task_1 = None\n",
    "\n",
    "class NeuralNetwork(nn.Module):\n",
    "    def __init__(self, *args, **kwargs):\n",
    "        super().__init__(*args, **kwargs)\n",
    "\n",
    "        self.flatten = nn.Flatten()\n",
    "        self.linear_relu_stack = nn.Sequential(\n",
    "            #nn.Linear(28*28, 512)\n",
    "            nn.Conv2d(1, 32, kernel_size=3, padding=1),\n",
    "            nn.MaxPool2d(2),\n",
    "            nn.ReLU(),\n",
    "            nn.Conv2d(32, 64, kernel_size=3, padding=1),\n",
    "            nn.MaxPool2d(2),\n",
    "            nn.Flatten(),\n",
    "            nn.Linear(64*7*7, 10)\n",
    "        )\n",
    "\n",
    "    def forward(self, x):\n",
    "        #x = self.flatten(x)\n",
    "        logits = self.linear_relu_stack(x)\n",
    "        return logits\n",
    "    \n",
    "model_task_1 = NeuralNetwork().to(device)\n",
    "display(model_task_1)\n",
    "\n",
    "\n",
    "\n",
    "\n",
    "# your code here"
   ]
  },
  {
   "cell_type": "markdown",
   "metadata": {
    "id": "bAoLV4dkoy5M"
   },
   "source": [
    "Не забудьте перенести модель на выбранный `device`!"
   ]
  },
  {
   "cell_type": "code",
   "execution_count": 22,
   "metadata": {
    "id": "Xas9SIXDoxvZ"
   },
   "outputs": [
    {
     "data": {
      "text/plain": [
       "NeuralNetwork(\n",
       "  (flatten): Flatten(start_dim=1, end_dim=-1)\n",
       "  (linear_relu_stack): Sequential(\n",
       "    (0): Conv2d(1, 32, kernel_size=(3, 3), stride=(1, 1), padding=(1, 1))\n",
       "    (1): MaxPool2d(kernel_size=2, stride=2, padding=0, dilation=1, ceil_mode=False)\n",
       "    (2): ReLU()\n",
       "    (3): Conv2d(32, 64, kernel_size=(3, 3), stride=(1, 1), padding=(1, 1))\n",
       "    (4): MaxPool2d(kernel_size=2, stride=2, padding=0, dilation=1, ceil_mode=False)\n",
       "    (5): Flatten(start_dim=1, end_dim=-1)\n",
       "    (6): Linear(in_features=3136, out_features=10, bias=True)\n",
       "  )\n",
       ")"
      ]
     },
     "execution_count": 22,
     "metadata": {},
     "output_type": "execute_result"
    }
   ],
   "source": [
    "model_task_1.to(device)"
   ]
  },
  {
   "cell_type": "markdown",
   "metadata": {
    "id": "6pLRWysggSq9"
   },
   "source": [
    "Локальные тесты для проверки вашей модели доступны ниже:"
   ]
  },
  {
   "cell_type": "code",
   "execution_count": 23,
   "metadata": {
    "colab": {
     "base_uri": "https://localhost:8080/"
    },
    "id": "_qMQzo1ggSq9",
    "outputId": "c00008eb-ef88-4000-ce47-e8dedd26e061"
   },
   "outputs": [
    {
     "name": "stdout",
     "output_type": "stream",
     "text": [
      "Everything seems fine!\n"
     ]
    }
   ],
   "source": [
    "# do not change the code in the block below\n",
    "# __________start of block__________\n",
    "assert model_task_1 is not None, \"Please, use `model_task_1` variable to store your model\"\n",
    "\n",
    "try:\n",
    "    x = random_batch[0].to(device)\n",
    "    y = random_batch[1].to(device)\n",
    "\n",
    "    # compute outputs given inputs, both are variables\n",
    "    y_predicted = model_task_1(x)\n",
    "except Exception as e:\n",
    "    print(\"Something is wrong with the model\")\n",
    "    raise e\n",
    "\n",
    "\n",
    "assert y_predicted.shape[-1] == 10, \"Model should predict 10 logits/probas\"\n",
    "\n",
    "print(\"Everything seems fine!\")\n",
    "# __________end of block__________"
   ]
  },
  {
   "cell_type": "markdown",
   "metadata": {
    "id": "suRmIPwIgSq9"
   },
   "source": [
    "Настройте параметры модели на обучающей выборке. Также рекомендуем поработать с `learning rate`."
   ]
  },
  {
   "cell_type": "code",
   "execution_count": 25,
   "metadata": {
    "id": "YJnU14bdnZa_"
   },
   "outputs": [
    {
     "name": "stdout",
     "output_type": "stream",
     "text": [
      "0.1\n",
      "Epoch 1\n",
      "-------------------------------\n"
     ]
    },
    {
     "name": "stdout",
     "output_type": "stream",
     "text": [
      "loss: 0.494677  [   32/60000]\n",
      "loss: 0.529336  [ 3232/60000]\n",
      "loss: 0.647709  [ 6432/60000]\n",
      "loss: 0.332088  [ 9632/60000]\n",
      "loss: 0.673110  [12832/60000]\n",
      "loss: 0.860064  [16032/60000]\n",
      "loss: 0.492295  [19232/60000]\n",
      "loss: 0.526473  [22432/60000]\n",
      "loss: 0.635597  [25632/60000]\n",
      "loss: 0.545944  [28832/60000]\n",
      "loss: 0.325143  [32032/60000]\n",
      "loss: 0.559311  [35232/60000]\n",
      "loss: 0.527919  [38432/60000]\n",
      "loss: 0.374021  [41632/60000]\n",
      "loss: 0.408359  [44832/60000]\n",
      "loss: 0.199731  [48032/60000]\n",
      "loss: 0.388632  [51232/60000]\n",
      "loss: 0.438638  [54432/60000]\n",
      "loss: 0.383907  [57632/60000]\n",
      "Test Error: \n",
      " Accuracy: 84.6%, Avg loss: 0.431914 \n",
      "\n",
      "Epoch 2\n",
      "-------------------------------\n",
      "loss: 0.262233  [   32/60000]\n",
      "loss: 0.244267  [ 3232/60000]\n",
      "loss: 0.363155  [ 6432/60000]\n",
      "loss: 0.309728  [ 9632/60000]\n",
      "loss: 0.300173  [12832/60000]\n",
      "loss: 0.167306  [16032/60000]\n",
      "loss: 0.310073  [19232/60000]\n",
      "loss: 0.550868  [22432/60000]\n",
      "loss: 0.567805  [25632/60000]\n",
      "loss: 0.322740  [28832/60000]\n",
      "loss: 0.334151  [32032/60000]\n",
      "loss: 0.289611  [35232/60000]\n",
      "loss: 0.261225  [38432/60000]\n",
      "loss: 0.358007  [41632/60000]\n",
      "loss: 0.295868  [44832/60000]\n",
      "loss: 0.275837  [48032/60000]\n",
      "loss: 0.347429  [51232/60000]\n",
      "loss: 0.698200  [54432/60000]\n",
      "loss: 0.540518  [57632/60000]\n",
      "Test Error: \n",
      " Accuracy: 85.9%, Avg loss: 0.394148 \n",
      "\n",
      "Epoch 3\n",
      "-------------------------------\n",
      "loss: 0.210321  [   32/60000]\n",
      "loss: 0.422335  [ 3232/60000]\n",
      "loss: 0.324559  [ 6432/60000]\n",
      "loss: 0.324305  [ 9632/60000]\n",
      "loss: 0.582471  [12832/60000]\n",
      "loss: 0.501622  [16032/60000]\n",
      "loss: 0.215590  [19232/60000]\n",
      "loss: 0.255207  [22432/60000]\n",
      "loss: 0.403817  [25632/60000]\n",
      "loss: 0.374497  [28832/60000]\n",
      "loss: 0.244852  [32032/60000]\n",
      "loss: 0.375775  [35232/60000]\n",
      "loss: 0.366733  [38432/60000]\n",
      "loss: 0.292638  [41632/60000]\n",
      "loss: 0.379263  [44832/60000]\n",
      "loss: 0.279612  [48032/60000]\n",
      "loss: 0.383932  [51232/60000]\n",
      "loss: 0.371238  [54432/60000]\n",
      "loss: 0.104186  [57632/60000]\n",
      "Test Error: \n",
      " Accuracy: 86.2%, Avg loss: 0.380031 \n",
      "\n",
      "Epoch 4\n",
      "-------------------------------\n",
      "loss: 0.517429  [   32/60000]\n",
      "loss: 0.216501  [ 3232/60000]\n",
      "loss: 0.246338  [ 6432/60000]\n",
      "loss: 0.301049  [ 9632/60000]\n",
      "loss: 0.258725  [12832/60000]\n",
      "loss: 0.399209  [16032/60000]\n",
      "loss: 0.403798  [19232/60000]\n",
      "loss: 0.291013  [22432/60000]\n",
      "loss: 0.705244  [25632/60000]\n",
      "loss: 0.600833  [28832/60000]\n",
      "loss: 0.197910  [32032/60000]\n",
      "loss: 0.421941  [35232/60000]\n",
      "loss: 0.463194  [38432/60000]\n",
      "loss: 0.091221  [41632/60000]\n",
      "loss: 0.665212  [44832/60000]\n",
      "loss: 0.185679  [48032/60000]\n",
      "loss: 0.354114  [51232/60000]\n",
      "loss: 0.323862  [54432/60000]\n",
      "loss: 0.323631  [57632/60000]\n",
      "Test Error: \n",
      " Accuracy: 87.6%, Avg loss: 0.353470 \n",
      "\n",
      "Epoch 5\n",
      "-------------------------------\n",
      "loss: 0.379261  [   32/60000]\n",
      "loss: 0.412657  [ 3232/60000]\n",
      "loss: 0.277952  [ 6432/60000]\n",
      "loss: 0.325568  [ 9632/60000]\n",
      "loss: 0.458668  [12832/60000]\n",
      "loss: 0.355357  [16032/60000]\n",
      "loss: 0.365362  [19232/60000]\n",
      "loss: 0.506408  [22432/60000]\n",
      "loss: 0.380393  [25632/60000]\n",
      "loss: 0.456006  [28832/60000]\n",
      "loss: 0.344121  [32032/60000]\n",
      "loss: 0.314262  [35232/60000]\n",
      "loss: 0.150846  [38432/60000]\n",
      "loss: 0.478552  [41632/60000]\n",
      "loss: 0.316730  [44832/60000]\n",
      "loss: 0.178948  [48032/60000]\n",
      "loss: 0.269647  [51232/60000]\n",
      "loss: 0.227625  [54432/60000]\n",
      "loss: 0.280074  [57632/60000]\n",
      "Test Error: \n",
      " Accuracy: 88.2%, Avg loss: 0.340178 \n",
      "\n",
      "Done!\n"
     ]
    }
   ],
   "source": [
    "# your code here\n",
    "\n",
    "import torch.optim.sgd\n",
    "\n",
    "\n",
    "loss_fn = nn.CrossEntropyLoss()\n",
    "optimizer = torch.optim.SGD(model_task_1.parameters(), lr=0.01)\n",
    "\n",
    "def train(dataloader, model, loss_fn, optimizer):\n",
    "    size = len(dataloader.dataset)\n",
    "    model.train()\n",
    "    for batch, (X, y) in enumerate(dataloader):\n",
    "        X, y = X.to(device), y.to(device)\n",
    "\n",
    "        # Compute prediction error\n",
    "        pred = model(X)\n",
    "        loss = loss_fn(pred, y)\n",
    "\n",
    "        # Backpropagation\n",
    "        loss.backward()\n",
    "        optimizer.step()\n",
    "        optimizer.zero_grad()\n",
    "\n",
    "        if batch % 100 == 0:\n",
    "            loss, current = loss.item(), (batch + 1) * len(X)\n",
    "            print(f\"loss: {loss:>7f}  [{current:>5d}/{size:>5d}]\")\n",
    "\n",
    "\n",
    "def test(dataloader, model, loss_fn):\n",
    "    size = len(dataloader.dataset)\n",
    "    num_batches = len(dataloader)\n",
    "    model.eval()\n",
    "    test_loss, correct = 0, 0\n",
    "    with torch.no_grad():\n",
    "        for X, y in dataloader:\n",
    "            X, y = X.to(device), y.to(device)\n",
    "            pred = model(X)\n",
    "            test_loss += loss_fn(pred, y).item()\n",
    "            correct += (pred.argmax(1) == y).type(torch.float).sum().item()\n",
    "    test_loss /= num_batches\n",
    "    correct /= size\n",
    "    print(f\"Test Error: \\n Accuracy: {(100*correct):>0.1f}%, Avg loss: {test_loss:>8f} \\n\")\n",
    "\n",
    "print(1e-1)\n",
    "epochs = 5 # 20 -> 0,91 0,883\n",
    "for t in range(epochs):\n",
    "    print(f\"Epoch {t+1}\\n-------------------------------\")\n",
    "    train(train_data_loader, model_task_1, loss_fn, optimizer)\n",
    "    test(test_data_loader, model_task_1, loss_fn)\n",
    "print(\"Done!\")"
   ]
  },
  {
   "cell_type": "markdown",
   "metadata": {
    "id": "2zce7gt1gSq-"
   },
   "source": [
    "Также, напоминаем, что в любой момент можно обратиться к замечательной [документации](https://pytorch.org/docs/stable/index.html) и [обучающим примерам](https://pytorch.org/tutorials/).  "
   ]
  },
  {
   "cell_type": "markdown",
   "metadata": {
    "id": "usswrWYOgSq-"
   },
   "source": [
    "Оценим качество классификации:"
   ]
  },
  {
   "cell_type": "code",
   "execution_count": 26,
   "metadata": {
    "id": "Xua3TVZHgSq-"
   },
   "outputs": [
    {
     "name": "stdout",
     "output_type": "stream",
     "text": [
      "Neural network accuracy on train set: 0.8922\n"
     ]
    }
   ],
   "source": [
    "train_acc_task_1 = get_accuracy(model_task_1, train_data_loader)\n",
    "print(f\"Neural network accuracy on train set: {train_acc_task_1:3.5}\")"
   ]
  },
  {
   "cell_type": "code",
   "execution_count": 27,
   "metadata": {
    "id": "l9KEKXBxgSq-"
   },
   "outputs": [
    {
     "name": "stdout",
     "output_type": "stream",
     "text": [
      "Neural network accuracy on test set: 0.8822\n"
     ]
    }
   ],
   "source": [
    "test_acc_task_1 = get_accuracy(model_task_1, test_data_loader)\n",
    "print(f\"Neural network accuracy on test set: {test_acc_task_1:3.5}\")"
   ]
  },
  {
   "cell_type": "markdown",
   "metadata": {
    "id": "4oyhmMobgSq_"
   },
   "source": [
    "Проверка, что необходимые пороги пройдены:"
   ]
  },
  {
   "cell_type": "code",
   "execution_count": 29,
   "metadata": {
    "colab": {
     "base_uri": "https://localhost:8080/",
     "height": 181
    },
    "id": "OAIrURCEgSq_",
    "outputId": "7c983690-a92e-4693-89fb-7c86c002921a"
   },
   "outputs": [
    {
     "ename": "AssertionError",
     "evalue": "Train accuracy is below 0.885 threshold",
     "output_type": "error",
     "traceback": [
      "\u001b[0;31m---------------------------------------------------------------------------\u001b[0m",
      "\u001b[0;31mAssertionError\u001b[0m                            Traceback (most recent call last)",
      "Cell \u001b[0;32mIn[29], line 1\u001b[0m\n\u001b[0;32m----> 1\u001b[0m \u001b[38;5;28;01massert\u001b[39;00m test_acc_task_1 \u001b[38;5;241m>\u001b[39m\u001b[38;5;241m=\u001b[39m \u001b[38;5;241m0.885\u001b[39m, \u001b[38;5;124m\"\u001b[39m\u001b[38;5;124mTrain accuracy is below 0.885 threshold\u001b[39m\u001b[38;5;124m\"\u001b[39m\n\u001b[1;32m      2\u001b[0m \u001b[38;5;28;01massert\u001b[39;00m (\n\u001b[1;32m      3\u001b[0m     train_acc_task_1 \u001b[38;5;241m>\u001b[39m\u001b[38;5;241m=\u001b[39m \u001b[38;5;241m0.905\u001b[39m\n\u001b[1;32m      4\u001b[0m ), \u001b[38;5;124m\"\u001b[39m\u001b[38;5;124mTest accuracy is below 0.905 while test accuracy is fine. We recommend to check your model and data flow\u001b[39m\u001b[38;5;124m\"\u001b[39m\n",
      "\u001b[0;31mAssertionError\u001b[0m: Train accuracy is below 0.885 threshold"
     ]
    }
   ],
   "source": [
    "assert test_acc_task_1 >= 0.885, \"Train accuracy is below 0.885 threshold\"\n",
    "assert (\n",
    "    train_acc_task_1 >= 0.905\n",
    "), \"Test accuracy is below 0.905 while test accuracy is fine. We recommend to check your model and data flow\""
   ]
  },
  {
   "cell_type": "markdown",
   "metadata": {},
   "source": [
    "Обращаем внимане, код ниже предполагает, что ваша модель имеет содержится в переменной `model_task_1`."
   ]
  },
  {
   "cell_type": "code",
   "execution_count": 16,
   "metadata": {},
   "outputs": [
    {
     "name": "stdout",
     "output_type": "stream",
     "text": [
      "File saved to `submission_dict_task_1.json`\n"
     ]
    }
   ],
   "source": [
    "# do not change the code in the block below\n",
    "# __________start of block__________\n",
    "assert os.path.exists(\n",
    "    \"hw_overfitting_data_dict.npy\"\n",
    "), \"Please, download `hw_overfitting_data_dict.npy` and place it in the working directory\"\n",
    "\n",
    "loaded_data_dict = np.load(\"hw_overfitting_data_dict.npy\", allow_pickle=True)\n",
    "\n",
    "submission_dict = {\n",
    "    \"train_predictions_task_1\": get_predictions(\n",
    "        model_task_1, torch.FloatTensor(loaded_data_dict.item()[\"train\"])\n",
    "    ),\n",
    "    \"test_predictions_task_1\": get_predictions(\n",
    "        model_task_1, torch.FloatTensor(loaded_data_dict.item()[\"test\"])\n",
    "    ),\n",
    "    \"model_task_1\": parse_pytorch_model(str(model_task_1)),\n",
    "}\n",
    "\n",
    "with open(\"submission_dict_task_1.json\", \"w\") as iofile:\n",
    "    json.dump(submission_dict, iofile)\n",
    "print(\"File saved to `submission_dict_task_1.json`\")\n",
    "# __________end of block__________"
   ]
  },
  {
   "cell_type": "markdown",
   "metadata": {},
   "source": [
    "### Задача №2: Переобучение (Initiation)\n",
    "Продолжим работу с набором данных [FashionMNIST](https://github.com/zalandoresearch/fashion-mnist). Теперь ваша задача продемонстрировать переобучение модели на обучающей выборке. Достаточно показать, что точность классификации (не только функция потерь!) на тестовой выборке значительно отстает от обучающей.\n",
    "\n",
    "Обращаем ваше внимание, в задаче №3 вам придется починить данную модель (минимизировать эффект переобучения) с помощью механизмов регуляризации, поэтому не переусердствуйте!\n",
    "\n",
    "__Ваша вторая задача: реализовать используя пайплан обучения модели продемонстрировать переобучения модели на обучающей выборке.__\n",
    "\n",
    "Код для обучения модели вы можете переиспользовать. Далее присутствует лишь несколько тестов, которые помогут вам проверить свое решение."
   ]
  },
  {
   "cell_type": "markdown",
   "metadata": {},
   "source": [
    "Обращаем внимание, вам необходимо использовать переменную `model_task_2` для хранение модели во второй задаче. \n",
    "\n",
    "Не используйте `Dropout` и `BatchNorm` в этой задаче"
   ]
  },
  {
   "cell_type": "code",
   "execution_count": 17,
   "metadata": {},
   "outputs": [
    {
     "data": {
      "text/plain": [
       "NeuralNetwork(\n",
       "  (flatten): Flatten(start_dim=1, end_dim=-1)\n",
       "  (linear_relu_stack): Sequential(\n",
       "    (0): Conv2d(1, 32, kernel_size=(3, 3), stride=(1, 1), padding=(1, 1))\n",
       "    (1): ReLU()\n",
       "    (2): Conv2d(32, 64, kernel_size=(3, 3), stride=(1, 1), padding=(1, 1))\n",
       "    (3): Conv2d(64, 64, kernel_size=(3, 3), stride=(1, 1), padding=(1, 1))\n",
       "    (4): ReLU()\n",
       "    (5): Flatten(start_dim=1, end_dim=-1)\n",
       "    (6): Linear(in_features=50176, out_features=10, bias=True)\n",
       "  )\n",
       ")"
      ]
     },
     "metadata": {},
     "output_type": "display_data"
    }
   ],
   "source": [
    "# Creating model instance\n",
    "model_task_2 = None\n",
    "# Creating model instance\n",
    "\n",
    "class NeuralNetwork(nn.Module):\n",
    "    def __init__(self, *args, **kwargs):\n",
    "        super().__init__(*args, **kwargs)\n",
    "\n",
    "        self.flatten = nn.Flatten()\n",
    "        self.linear_relu_stack = nn.Sequential(\n",
    "\n",
    "            nn.Conv2d(1, 32, kernel_size=3, padding=1),\n",
    "            nn.ReLU(),\n",
    "\n",
    "            nn.Conv2d(32, 64, kernel_size=3, padding=1),\n",
    "            nn.Conv2d(64, 64, kernel_size=3, padding=1),\n",
    "            nn.ReLU(),\n",
    "\n",
    "            nn.Flatten(),\n",
    "            nn.Linear(64*28*28, 10)\n",
    "        )\n",
    "\n",
    "    def forward(self, x):\n",
    "        #x = self.flatten(x)\n",
    "        logits = self.linear_relu_stack(x)\n",
    "        return logits\n",
    "    \n",
    "model_task_2 = NeuralNetwork().to(device)\n",
    "display(model_task_2)\n",
    "\n",
    "\n",
    "\n",
    "\n",
    "# your code here\n",
    "\n",
    "# your code here"
   ]
  },
  {
   "cell_type": "code",
   "execution_count": 18,
   "metadata": {},
   "outputs": [
    {
     "name": "stdout",
     "output_type": "stream",
     "text": [
      "0.1\n",
      "Epoch 1\n",
      "-------------------------------\n",
      "loss: 2.305094  [   32/60000]\n",
      "loss: 1.228994  [ 3232/60000]\n",
      "loss: 1.045748  [ 6432/60000]\n",
      "loss: 0.742443  [ 9632/60000]\n",
      "loss: 0.578746  [12832/60000]\n",
      "loss: 0.839088  [16032/60000]\n",
      "loss: 0.549800  [19232/60000]\n",
      "loss: 1.018300  [22432/60000]\n",
      "loss: 0.317950  [25632/60000]\n",
      "loss: 0.467721  [28832/60000]\n",
      "loss: 0.309594  [32032/60000]\n",
      "loss: 0.774118  [35232/60000]\n",
      "loss: 0.735625  [38432/60000]\n",
      "loss: 0.812112  [41632/60000]\n",
      "loss: 0.388908  [44832/60000]\n",
      "loss: 0.693273  [48032/60000]\n",
      "loss: 0.252064  [51232/60000]\n",
      "loss: 0.323002  [54432/60000]\n",
      "loss: 0.305611  [57632/60000]\n",
      "Test Error: \n",
      " Accuracy: 83.9%, Avg loss: 0.447688 \n",
      "\n",
      "Epoch 2\n",
      "-------------------------------\n",
      "loss: 0.631908  [   32/60000]\n",
      "loss: 0.549481  [ 3232/60000]\n",
      "loss: 0.424621  [ 6432/60000]\n",
      "loss: 0.604051  [ 9632/60000]\n",
      "loss: 0.398603  [12832/60000]\n",
      "loss: 0.274520  [16032/60000]\n",
      "loss: 0.464481  [19232/60000]\n",
      "loss: 0.481372  [22432/60000]\n",
      "loss: 0.362464  [25632/60000]\n",
      "loss: 0.371421  [28832/60000]\n",
      "loss: 0.460689  [32032/60000]\n",
      "loss: 0.627504  [35232/60000]\n",
      "loss: 0.330879  [38432/60000]\n",
      "loss: 0.460357  [41632/60000]\n",
      "loss: 0.245705  [44832/60000]\n",
      "loss: 0.362684  [48032/60000]\n",
      "loss: 0.617575  [51232/60000]\n",
      "loss: 0.582660  [54432/60000]\n",
      "loss: 0.485056  [57632/60000]\n",
      "Test Error: \n",
      " Accuracy: 86.8%, Avg loss: 0.386555 \n",
      "\n",
      "Epoch 3\n",
      "-------------------------------\n",
      "loss: 0.501805  [   32/60000]\n",
      "loss: 0.223822  [ 3232/60000]\n",
      "loss: 0.348018  [ 6432/60000]\n",
      "loss: 0.234669  [ 9632/60000]\n",
      "loss: 0.417536  [12832/60000]\n",
      "loss: 0.311156  [16032/60000]\n",
      "loss: 0.436863  [19232/60000]\n",
      "loss: 0.320681  [22432/60000]\n",
      "loss: 0.353501  [25632/60000]\n",
      "loss: 0.508660  [28832/60000]\n",
      "loss: 0.276472  [32032/60000]\n",
      "loss: 0.265333  [35232/60000]\n",
      "loss: 0.425829  [38432/60000]\n",
      "loss: 0.450181  [41632/60000]\n",
      "loss: 0.452336  [44832/60000]\n",
      "loss: 0.377084  [48032/60000]\n",
      "loss: 0.356625  [51232/60000]\n",
      "loss: 0.452492  [54432/60000]\n",
      "loss: 0.475804  [57632/60000]\n",
      "Test Error: \n",
      " Accuracy: 86.7%, Avg loss: 0.374033 \n",
      "\n",
      "Epoch 4\n",
      "-------------------------------\n",
      "loss: 0.242536  [   32/60000]\n",
      "loss: 0.289802  [ 3232/60000]\n",
      "loss: 0.348339  [ 6432/60000]\n",
      "loss: 0.444955  [ 9632/60000]\n",
      "loss: 0.332877  [12832/60000]\n",
      "loss: 0.376578  [16032/60000]\n",
      "loss: 0.431173  [19232/60000]\n",
      "loss: 0.503596  [22432/60000]\n",
      "loss: 0.473881  [25632/60000]\n",
      "loss: 0.214320  [28832/60000]\n",
      "loss: 0.261588  [32032/60000]\n",
      "loss: 0.278263  [35232/60000]\n",
      "loss: 0.204414  [38432/60000]\n",
      "loss: 0.160095  [41632/60000]\n",
      "loss: 0.501211  [44832/60000]\n",
      "loss: 0.280595  [48032/60000]\n",
      "loss: 0.495271  [51232/60000]\n",
      "loss: 0.351807  [54432/60000]\n",
      "loss: 0.191262  [57632/60000]\n",
      "Test Error: \n",
      " Accuracy: 87.7%, Avg loss: 0.346719 \n",
      "\n",
      "Epoch 5\n",
      "-------------------------------\n",
      "loss: 0.277415  [   32/60000]\n",
      "loss: 0.269253  [ 3232/60000]\n",
      "loss: 0.253105  [ 6432/60000]\n",
      "loss: 0.298295  [ 9632/60000]\n",
      "loss: 0.434090  [12832/60000]\n",
      "loss: 0.472870  [16032/60000]\n",
      "loss: 0.393618  [19232/60000]\n",
      "loss: 0.165902  [22432/60000]\n",
      "loss: 0.376772  [25632/60000]\n",
      "loss: 0.350306  [28832/60000]\n",
      "loss: 0.288858  [32032/60000]\n",
      "loss: 0.405740  [35232/60000]\n",
      "loss: 0.463393  [38432/60000]\n",
      "loss: 0.412494  [41632/60000]\n",
      "loss: 0.190533  [44832/60000]\n",
      "loss: 0.529869  [48032/60000]\n",
      "loss: 0.219123  [51232/60000]\n",
      "loss: 0.329316  [54432/60000]\n",
      "loss: 0.332544  [57632/60000]\n",
      "Test Error: \n",
      " Accuracy: 87.9%, Avg loss: 0.330548 \n",
      "\n",
      "Epoch 6\n",
      "-------------------------------\n",
      "loss: 0.157691  [   32/60000]\n",
      "loss: 0.175272  [ 3232/60000]\n",
      "loss: 0.530180  [ 6432/60000]\n",
      "loss: 0.203660  [ 9632/60000]\n",
      "loss: 0.357816  [12832/60000]\n",
      "loss: 0.440407  [16032/60000]\n",
      "loss: 0.212881  [19232/60000]\n",
      "loss: 0.356065  [22432/60000]\n",
      "loss: 0.088906  [25632/60000]\n",
      "loss: 0.357557  [28832/60000]\n",
      "loss: 0.473436  [32032/60000]\n",
      "loss: 0.244281  [35232/60000]\n",
      "loss: 0.159411  [38432/60000]\n",
      "loss: 0.372221  [41632/60000]\n",
      "loss: 0.634482  [44832/60000]\n",
      "loss: 0.327711  [48032/60000]\n",
      "loss: 0.765822  [51232/60000]\n",
      "loss: 0.322703  [54432/60000]\n",
      "loss: 0.210949  [57632/60000]\n",
      "Test Error: \n",
      " Accuracy: 88.7%, Avg loss: 0.309733 \n",
      "\n",
      "Epoch 7\n",
      "-------------------------------\n",
      "loss: 0.259515  [   32/60000]\n",
      "loss: 0.155454  [ 3232/60000]\n",
      "loss: 0.123614  [ 6432/60000]\n",
      "loss: 0.190019  [ 9632/60000]\n",
      "loss: 0.619316  [12832/60000]\n",
      "loss: 0.441862  [16032/60000]\n",
      "loss: 0.348680  [19232/60000]\n",
      "loss: 0.802846  [22432/60000]\n",
      "loss: 0.115692  [25632/60000]\n",
      "loss: 0.454986  [28832/60000]\n",
      "loss: 0.216838  [32032/60000]\n",
      "loss: 0.200407  [35232/60000]\n",
      "loss: 0.170277  [38432/60000]\n",
      "loss: 0.194609  [41632/60000]\n",
      "loss: 0.231308  [44832/60000]\n",
      "loss: 0.305752  [48032/60000]\n",
      "loss: 0.290812  [51232/60000]\n",
      "loss: 0.207728  [54432/60000]\n",
      "loss: 0.216660  [57632/60000]\n",
      "Test Error: \n",
      " Accuracy: 89.6%, Avg loss: 0.294272 \n",
      "\n",
      "Epoch 8\n",
      "-------------------------------\n",
      "loss: 0.215164  [   32/60000]\n",
      "loss: 0.248164  [ 3232/60000]\n",
      "loss: 0.470744  [ 6432/60000]\n",
      "loss: 0.161420  [ 9632/60000]\n",
      "loss: 0.220221  [12832/60000]\n",
      "loss: 0.123892  [16032/60000]\n",
      "loss: 0.152755  [19232/60000]\n",
      "loss: 0.194005  [22432/60000]\n",
      "loss: 0.124383  [25632/60000]\n",
      "loss: 0.223231  [28832/60000]\n",
      "loss: 0.276764  [32032/60000]\n",
      "loss: 0.147467  [35232/60000]\n",
      "loss: 0.286484  [38432/60000]\n",
      "loss: 0.078107  [41632/60000]\n",
      "loss: 0.278374  [44832/60000]\n",
      "loss: 0.176526  [48032/60000]\n",
      "loss: 0.202100  [51232/60000]\n",
      "loss: 0.376460  [54432/60000]\n",
      "loss: 0.241465  [57632/60000]\n",
      "Test Error: \n",
      " Accuracy: 89.9%, Avg loss: 0.284770 \n",
      "\n",
      "Epoch 9\n",
      "-------------------------------\n",
      "loss: 0.209728  [   32/60000]\n",
      "loss: 0.311418  [ 3232/60000]\n",
      "loss: 0.206526  [ 6432/60000]\n",
      "loss: 0.414347  [ 9632/60000]\n",
      "loss: 0.292869  [12832/60000]\n",
      "loss: 0.232529  [16032/60000]\n",
      "loss: 0.378546  [19232/60000]\n",
      "loss: 0.056569  [22432/60000]\n",
      "loss: 0.295093  [25632/60000]\n",
      "loss: 0.119280  [28832/60000]\n",
      "loss: 0.182814  [32032/60000]\n",
      "loss: 0.163735  [35232/60000]\n",
      "loss: 0.277041  [38432/60000]\n",
      "loss: 0.251058  [41632/60000]\n",
      "loss: 0.305520  [44832/60000]\n",
      "loss: 0.297227  [48032/60000]\n",
      "loss: 0.328533  [51232/60000]\n",
      "loss: 0.255969  [54432/60000]\n",
      "loss: 0.118952  [57632/60000]\n",
      "Test Error: \n",
      " Accuracy: 89.7%, Avg loss: 0.295841 \n",
      "\n",
      "Epoch 10\n",
      "-------------------------------\n",
      "loss: 0.159372  [   32/60000]\n",
      "loss: 0.288734  [ 3232/60000]\n",
      "loss: 0.273724  [ 6432/60000]\n",
      "loss: 0.222375  [ 9632/60000]\n",
      "loss: 0.030994  [12832/60000]\n",
      "loss: 0.098108  [16032/60000]\n",
      "loss: 0.253286  [19232/60000]\n",
      "loss: 0.101507  [22432/60000]\n",
      "loss: 0.338791  [25632/60000]\n",
      "loss: 0.234061  [28832/60000]\n",
      "loss: 0.332277  [32032/60000]\n",
      "loss: 0.241350  [35232/60000]\n",
      "loss: 0.150849  [38432/60000]\n",
      "loss: 0.088690  [41632/60000]\n",
      "loss: 0.053662  [44832/60000]\n",
      "loss: 0.259857  [48032/60000]\n",
      "loss: 0.189399  [51232/60000]\n",
      "loss: 0.059573  [54432/60000]\n",
      "loss: 0.230563  [57632/60000]\n",
      "Test Error: \n",
      " Accuracy: 89.0%, Avg loss: 0.319637 \n",
      "\n",
      "Epoch 11\n",
      "-------------------------------\n",
      "loss: 0.213938  [   32/60000]\n",
      "loss: 0.165633  [ 3232/60000]\n",
      "loss: 0.076834  [ 6432/60000]\n",
      "loss: 0.094680  [ 9632/60000]\n",
      "loss: 0.106867  [12832/60000]\n",
      "loss: 0.123469  [16032/60000]\n",
      "loss: 0.235543  [19232/60000]\n",
      "loss: 0.396904  [22432/60000]\n",
      "loss: 0.289654  [25632/60000]\n",
      "loss: 0.117256  [28832/60000]\n",
      "loss: 0.426975  [32032/60000]\n",
      "loss: 0.257626  [35232/60000]\n",
      "loss: 0.084134  [38432/60000]\n",
      "loss: 0.286367  [41632/60000]\n",
      "loss: 0.112579  [44832/60000]\n",
      "loss: 0.200263  [48032/60000]\n",
      "loss: 0.436223  [51232/60000]\n",
      "loss: 0.218354  [54432/60000]\n",
      "loss: 0.220079  [57632/60000]\n",
      "Test Error: \n",
      " Accuracy: 89.7%, Avg loss: 0.295397 \n",
      "\n",
      "Epoch 12\n",
      "-------------------------------\n",
      "loss: 0.205881  [   32/60000]\n",
      "loss: 0.228988  [ 3232/60000]\n",
      "loss: 0.122347  [ 6432/60000]\n",
      "loss: 0.057691  [ 9632/60000]\n",
      "loss: 0.159857  [12832/60000]\n",
      "loss: 0.099883  [16032/60000]\n",
      "loss: 0.069296  [19232/60000]\n",
      "loss: 0.269247  [22432/60000]\n",
      "loss: 0.206644  [25632/60000]\n",
      "loss: 0.368790  [28832/60000]\n",
      "loss: 0.197388  [32032/60000]\n",
      "loss: 0.342506  [35232/60000]\n",
      "loss: 0.112077  [38432/60000]\n",
      "loss: 0.057772  [41632/60000]\n",
      "loss: 0.237182  [44832/60000]\n",
      "loss: 0.120936  [48032/60000]\n",
      "loss: 0.098662  [51232/60000]\n",
      "loss: 0.402961  [54432/60000]\n",
      "loss: 0.203729  [57632/60000]\n",
      "Test Error: \n",
      " Accuracy: 90.5%, Avg loss: 0.268381 \n",
      "\n",
      "Epoch 13\n",
      "-------------------------------\n",
      "loss: 0.085799  [   32/60000]\n",
      "loss: 0.042467  [ 3232/60000]\n",
      "loss: 0.122241  [ 6432/60000]\n",
      "loss: 0.331998  [ 9632/60000]\n",
      "loss: 0.106726  [12832/60000]\n",
      "loss: 0.160289  [16032/60000]\n",
      "loss: 0.207146  [19232/60000]\n",
      "loss: 0.271334  [22432/60000]\n",
      "loss: 0.288286  [25632/60000]\n",
      "loss: 0.155949  [28832/60000]\n",
      "loss: 0.208908  [32032/60000]\n",
      "loss: 0.186954  [35232/60000]\n",
      "loss: 0.175455  [38432/60000]\n",
      "loss: 0.062961  [41632/60000]\n",
      "loss: 0.297064  [44832/60000]\n",
      "loss: 0.087594  [48032/60000]\n",
      "loss: 0.205404  [51232/60000]\n",
      "loss: 0.301925  [54432/60000]\n",
      "loss: 0.146099  [57632/60000]\n",
      "Test Error: \n",
      " Accuracy: 90.0%, Avg loss: 0.288250 \n",
      "\n",
      "Epoch 14\n",
      "-------------------------------\n",
      "loss: 0.336753  [   32/60000]\n",
      "loss: 0.078502  [ 3232/60000]\n",
      "loss: 0.170557  [ 6432/60000]\n",
      "loss: 0.226039  [ 9632/60000]\n",
      "loss: 0.229535  [12832/60000]\n",
      "loss: 0.120241  [16032/60000]\n",
      "loss: 0.097264  [19232/60000]\n",
      "loss: 0.290731  [22432/60000]\n",
      "loss: 0.370098  [25632/60000]\n",
      "loss: 0.107797  [28832/60000]\n",
      "loss: 0.263076  [32032/60000]\n",
      "loss: 0.262098  [35232/60000]\n",
      "loss: 0.101619  [38432/60000]\n",
      "loss: 0.503757  [41632/60000]\n",
      "loss: 0.100044  [44832/60000]\n",
      "loss: 0.321522  [48032/60000]\n",
      "loss: 0.092651  [51232/60000]\n",
      "loss: 0.071728  [54432/60000]\n",
      "loss: 0.098726  [57632/60000]\n",
      "Test Error: \n",
      " Accuracy: 91.0%, Avg loss: 0.271255 \n",
      "\n",
      "Epoch 15\n",
      "-------------------------------\n",
      "loss: 0.213389  [   32/60000]\n",
      "loss: 0.122507  [ 3232/60000]\n",
      "loss: 0.152720  [ 6432/60000]\n",
      "loss: 0.045119  [ 9632/60000]\n",
      "loss: 0.265572  [12832/60000]\n",
      "loss: 0.064430  [16032/60000]\n",
      "loss: 0.330376  [19232/60000]\n",
      "loss: 0.119238  [22432/60000]\n",
      "loss: 0.237747  [25632/60000]\n",
      "loss: 0.077933  [28832/60000]\n",
      "loss: 0.094297  [32032/60000]\n",
      "loss: 0.116491  [35232/60000]\n",
      "loss: 0.073078  [38432/60000]\n",
      "loss: 0.156822  [41632/60000]\n",
      "loss: 0.013558  [44832/60000]\n",
      "loss: 0.373609  [48032/60000]\n",
      "loss: 0.072466  [51232/60000]\n",
      "loss: 0.101954  [54432/60000]\n",
      "loss: 0.115915  [57632/60000]\n",
      "Test Error: \n",
      " Accuracy: 90.7%, Avg loss: 0.269181 \n",
      "\n",
      "Epoch 16\n",
      "-------------------------------\n",
      "loss: 0.083314  [   32/60000]\n",
      "loss: 0.083379  [ 3232/60000]\n",
      "loss: 0.218546  [ 6432/60000]\n",
      "loss: 0.239917  [ 9632/60000]\n",
      "loss: 0.093526  [12832/60000]\n",
      "loss: 0.243510  [16032/60000]\n",
      "loss: 0.191309  [19232/60000]\n",
      "loss: 0.307397  [22432/60000]\n",
      "loss: 0.297138  [25632/60000]\n",
      "loss: 0.226345  [28832/60000]\n",
      "loss: 0.426661  [32032/60000]\n",
      "loss: 0.073131  [35232/60000]\n",
      "loss: 0.231893  [38432/60000]\n",
      "loss: 0.069124  [41632/60000]\n",
      "loss: 0.140977  [44832/60000]\n",
      "loss: 0.072451  [48032/60000]\n",
      "loss: 0.032658  [51232/60000]\n",
      "loss: 0.105554  [54432/60000]\n",
      "loss: 0.423128  [57632/60000]\n",
      "Test Error: \n",
      " Accuracy: 90.8%, Avg loss: 0.264789 \n",
      "\n",
      "Epoch 17\n",
      "-------------------------------\n",
      "loss: 0.076785  [   32/60000]\n",
      "loss: 0.362872  [ 3232/60000]\n",
      "loss: 0.104920  [ 6432/60000]\n",
      "loss: 0.143221  [ 9632/60000]\n",
      "loss: 0.047540  [12832/60000]\n",
      "loss: 0.297315  [16032/60000]\n",
      "loss: 0.254420  [19232/60000]\n",
      "loss: 0.108142  [22432/60000]\n",
      "loss: 0.115501  [25632/60000]\n",
      "loss: 0.235675  [28832/60000]\n",
      "loss: 0.095835  [32032/60000]\n",
      "loss: 0.215923  [35232/60000]\n",
      "loss: 0.103293  [38432/60000]\n",
      "loss: 0.124070  [41632/60000]\n",
      "loss: 0.054354  [44832/60000]\n",
      "loss: 0.120010  [48032/60000]\n",
      "loss: 0.033913  [51232/60000]\n",
      "loss: 0.221964  [54432/60000]\n",
      "loss: 0.313209  [57632/60000]\n",
      "Test Error: \n",
      " Accuracy: 91.0%, Avg loss: 0.273460 \n",
      "\n",
      "Epoch 18\n",
      "-------------------------------\n",
      "loss: 0.116137  [   32/60000]\n",
      "loss: 0.144907  [ 3232/60000]\n",
      "loss: 0.054080  [ 6432/60000]\n",
      "loss: 0.108117  [ 9632/60000]\n",
      "loss: 0.026924  [12832/60000]\n",
      "loss: 0.156826  [16032/60000]\n",
      "loss: 0.149283  [19232/60000]\n",
      "loss: 0.079609  [22432/60000]\n",
      "loss: 0.407015  [25632/60000]\n",
      "loss: 0.061887  [28832/60000]\n",
      "loss: 0.288837  [32032/60000]\n",
      "loss: 0.156003  [35232/60000]\n",
      "loss: 0.077376  [38432/60000]\n",
      "loss: 0.103021  [41632/60000]\n",
      "loss: 0.275036  [44832/60000]\n",
      "loss: 0.448093  [48032/60000]\n",
      "loss: 0.167446  [51232/60000]\n",
      "loss: 0.138165  [54432/60000]\n",
      "loss: 0.117449  [57632/60000]\n",
      "Test Error: \n",
      " Accuracy: 90.6%, Avg loss: 0.281719 \n",
      "\n",
      "Epoch 19\n",
      "-------------------------------\n",
      "loss: 0.064813  [   32/60000]\n",
      "loss: 0.056561  [ 3232/60000]\n",
      "loss: 0.278740  [ 6432/60000]\n",
      "loss: 0.162968  [ 9632/60000]\n",
      "loss: 0.147929  [12832/60000]\n",
      "loss: 0.130477  [16032/60000]\n",
      "loss: 0.106490  [19232/60000]\n",
      "loss: 0.073013  [22432/60000]\n",
      "loss: 0.168813  [25632/60000]\n",
      "loss: 0.159673  [28832/60000]\n",
      "loss: 0.062669  [32032/60000]\n",
      "loss: 0.310949  [35232/60000]\n",
      "loss: 0.089147  [38432/60000]\n",
      "loss: 0.153910  [41632/60000]\n",
      "loss: 0.259283  [44832/60000]\n",
      "loss: 0.054658  [48032/60000]\n",
      "loss: 0.106664  [51232/60000]\n",
      "loss: 0.133415  [54432/60000]\n",
      "loss: 0.038434  [57632/60000]\n",
      "Test Error: \n",
      " Accuracy: 91.1%, Avg loss: 0.273758 \n",
      "\n",
      "Epoch 20\n",
      "-------------------------------\n",
      "loss: 0.163757  [   32/60000]\n",
      "loss: 0.264603  [ 3232/60000]\n",
      "loss: 0.055641  [ 6432/60000]\n",
      "loss: 0.156447  [ 9632/60000]\n",
      "loss: 0.134624  [12832/60000]\n",
      "loss: 0.215383  [16032/60000]\n",
      "loss: 0.227213  [19232/60000]\n",
      "loss: 0.049713  [22432/60000]\n",
      "loss: 0.154122  [25632/60000]\n",
      "loss: 0.164634  [28832/60000]\n",
      "loss: 0.087978  [32032/60000]\n",
      "loss: 0.266975  [35232/60000]\n",
      "loss: 0.190749  [38432/60000]\n",
      "loss: 0.210702  [41632/60000]\n",
      "loss: 0.035906  [44832/60000]\n",
      "loss: 0.311323  [48032/60000]\n",
      "loss: 0.157082  [51232/60000]\n",
      "loss: 0.191425  [54432/60000]\n",
      "loss: 0.034886  [57632/60000]\n",
      "Test Error: \n",
      " Accuracy: 91.2%, Avg loss: 0.271316 \n",
      "\n",
      "Epoch 21\n",
      "-------------------------------\n",
      "loss: 0.282333  [   32/60000]\n",
      "loss: 0.052107  [ 3232/60000]\n",
      "loss: 0.046348  [ 6432/60000]\n",
      "loss: 0.131490  [ 9632/60000]\n",
      "loss: 0.282842  [12832/60000]\n",
      "loss: 0.164683  [16032/60000]\n",
      "loss: 0.019283  [19232/60000]\n",
      "loss: 0.183405  [22432/60000]\n",
      "loss: 0.059846  [25632/60000]\n",
      "loss: 0.258245  [28832/60000]\n",
      "loss: 0.110348  [32032/60000]\n",
      "loss: 0.053123  [35232/60000]\n",
      "loss: 0.102010  [38432/60000]\n",
      "loss: 0.082390  [41632/60000]\n",
      "loss: 0.192451  [44832/60000]\n",
      "loss: 0.045136  [48032/60000]\n",
      "loss: 0.096203  [51232/60000]\n",
      "loss: 0.156740  [54432/60000]\n",
      "loss: 0.076054  [57632/60000]\n",
      "Test Error: \n",
      " Accuracy: 90.9%, Avg loss: 0.285708 \n",
      "\n",
      "Epoch 22\n",
      "-------------------------------\n",
      "loss: 0.129791  [   32/60000]\n",
      "loss: 0.128934  [ 3232/60000]\n",
      "loss: 0.202663  [ 6432/60000]\n",
      "loss: 0.127774  [ 9632/60000]\n",
      "loss: 0.117092  [12832/60000]\n",
      "loss: 0.060280  [16032/60000]\n",
      "loss: 0.262862  [19232/60000]\n",
      "loss: 0.141151  [22432/60000]\n",
      "loss: 0.029661  [25632/60000]\n",
      "loss: 0.041690  [28832/60000]\n",
      "loss: 0.109396  [32032/60000]\n",
      "loss: 0.181056  [35232/60000]\n",
      "loss: 0.043905  [38432/60000]\n",
      "loss: 0.115106  [41632/60000]\n",
      "loss: 0.173828  [44832/60000]\n",
      "loss: 0.185891  [48032/60000]\n",
      "loss: 0.123591  [51232/60000]\n",
      "loss: 0.045580  [54432/60000]\n",
      "loss: 0.189186  [57632/60000]\n",
      "Test Error: \n",
      " Accuracy: 90.0%, Avg loss: 0.310356 \n",
      "\n",
      "Epoch 23\n",
      "-------------------------------\n",
      "loss: 0.333411  [   32/60000]\n",
      "loss: 0.181454  [ 3232/60000]\n",
      "loss: 0.118868  [ 6432/60000]\n",
      "loss: 0.062798  [ 9632/60000]\n",
      "loss: 0.089102  [12832/60000]\n",
      "loss: 0.087384  [16032/60000]\n",
      "loss: 0.086184  [19232/60000]\n",
      "loss: 0.187983  [22432/60000]\n",
      "loss: 0.141127  [25632/60000]\n",
      "loss: 0.030990  [28832/60000]\n",
      "loss: 0.081619  [32032/60000]\n",
      "loss: 0.044894  [35232/60000]\n",
      "loss: 0.141570  [38432/60000]\n",
      "loss: 0.348816  [41632/60000]\n",
      "loss: 0.032417  [44832/60000]\n",
      "loss: 0.050109  [48032/60000]\n",
      "loss: 0.051370  [51232/60000]\n",
      "loss: 0.260288  [54432/60000]\n",
      "loss: 0.064405  [57632/60000]\n",
      "Test Error: \n",
      " Accuracy: 91.1%, Avg loss: 0.286695 \n",
      "\n",
      "Epoch 24\n",
      "-------------------------------\n",
      "loss: 0.108248  [   32/60000]\n",
      "loss: 0.101390  [ 3232/60000]\n",
      "loss: 0.088946  [ 6432/60000]\n",
      "loss: 0.101217  [ 9632/60000]\n",
      "loss: 0.242060  [12832/60000]\n",
      "loss: 0.115257  [16032/60000]\n",
      "loss: 0.033259  [19232/60000]\n",
      "loss: 0.140951  [22432/60000]\n",
      "loss: 0.091650  [25632/60000]\n",
      "loss: 0.205508  [28832/60000]\n",
      "loss: 0.129199  [32032/60000]\n",
      "loss: 0.112447  [35232/60000]\n",
      "loss: 0.047459  [38432/60000]\n",
      "loss: 0.061371  [41632/60000]\n",
      "loss: 0.179530  [44832/60000]\n",
      "loss: 0.140593  [48032/60000]\n",
      "loss: 0.330671  [51232/60000]\n",
      "loss: 0.082700  [54432/60000]\n",
      "loss: 0.061388  [57632/60000]\n",
      "Test Error: \n",
      " Accuracy: 90.2%, Avg loss: 0.308523 \n",
      "\n",
      "Epoch 25\n",
      "-------------------------------\n",
      "loss: 0.062349  [   32/60000]\n",
      "loss: 0.053330  [ 3232/60000]\n",
      "loss: 0.149874  [ 6432/60000]\n",
      "loss: 0.043049  [ 9632/60000]\n",
      "loss: 0.069567  [12832/60000]\n",
      "loss: 0.450677  [16032/60000]\n",
      "loss: 0.039248  [19232/60000]\n",
      "loss: 0.234106  [22432/60000]\n",
      "loss: 0.036453  [25632/60000]\n",
      "loss: 0.021804  [28832/60000]\n",
      "loss: 0.254341  [32032/60000]\n",
      "loss: 0.209132  [35232/60000]\n",
      "loss: 0.181633  [38432/60000]\n",
      "loss: 0.087086  [41632/60000]\n",
      "loss: 0.065847  [44832/60000]\n",
      "loss: 0.154232  [48032/60000]\n",
      "loss: 0.024862  [51232/60000]\n",
      "loss: 0.037945  [54432/60000]\n",
      "loss: 0.054166  [57632/60000]\n",
      "Test Error: \n",
      " Accuracy: 91.1%, Avg loss: 0.298080 \n",
      "\n",
      "Done!\n"
     ]
    }
   ],
   "source": [
    "# your code here\n",
    "\n",
    "# your code here\n",
    "\n",
    "import torch.optim.sgd\n",
    "\n",
    "\n",
    "loss_fn = nn.CrossEntropyLoss()\n",
    "optimizer = torch.optim.SGD(model_task_2.parameters(), lr=0.01)\n",
    "\n",
    "def train(dataloader, model, loss_fn, optimizer):\n",
    "    size = len(dataloader.dataset)\n",
    "    model.train()\n",
    "    for batch, (X, y) in enumerate(dataloader):\n",
    "        X, y = X.to(device), y.to(device)\n",
    "\n",
    "        # Compute prediction error\n",
    "        pred = model(X)\n",
    "        loss = loss_fn(pred, y)\n",
    "\n",
    "        # Backpropagation\n",
    "        loss.backward()\n",
    "        optimizer.step()\n",
    "        optimizer.zero_grad()\n",
    "\n",
    "        if batch % 100 == 0:\n",
    "            loss, current = loss.item(), (batch + 1) * len(X)\n",
    "            print(f\"loss: {loss:>7f}  [{current:>5d}/{size:>5d}]\")\n",
    "\n",
    "\n",
    "def test(dataloader, model, loss_fn):\n",
    "    size = len(dataloader.dataset)\n",
    "    num_batches = len(dataloader)\n",
    "    model.eval()\n",
    "    test_loss, correct = 0, 0\n",
    "    with torch.no_grad():\n",
    "        for X, y in dataloader:\n",
    "            X, y = X.to(device), y.to(device)\n",
    "            pred = model(X)\n",
    "            test_loss += loss_fn(pred, y).item()\n",
    "            correct += (pred.argmax(1) == y).type(torch.float).sum().item()\n",
    "    test_loss /= num_batches\n",
    "    correct /= size\n",
    "    print(f\"Test Error: \\n Accuracy: {(100*correct):>0.1f}%, Avg loss: {test_loss:>8f} \\n\")\n",
    "\n",
    "print(1e-1)\n",
    "epochs = 25 # 20 -> 0,91 0,883\n",
    "for t in range(epochs):\n",
    "    print(f\"Epoch {t+1}\\n-------------------------------\")\n",
    "    train(train_data_loader, model_task_2, loss_fn, optimizer)\n",
    "    test(test_data_loader, model_task_2, loss_fn)\n",
    "print(\"Done!\")"
   ]
  },
  {
   "cell_type": "markdown",
   "metadata": {},
   "source": [
    "Проверка архитектуры:"
   ]
  },
  {
   "cell_type": "code",
   "execution_count": 19,
   "metadata": {},
   "outputs": [],
   "source": [
    "# do not change the code in the block below\n",
    "# __________start of block__________\n",
    "layers_task_2 = []\n",
    "for element in parse_pytorch_model(str(model_task_2)).get(\"layers\", []):\n",
    "    layer_name = element[\"layer\"][\"type\"]\n",
    "    assert \"dropout\" not in layer_name.lower(), \"Do not use Dropout in Task 2!\"\n",
    "    assert \"batchnorm\" not in layer_name.lower(), \"Do not use BatchNorm in Task 2!\"\n",
    "    layers_task_2.append(layer_name)\n",
    "# __________end of block__________"
   ]
  },
  {
   "cell_type": "markdown",
   "metadata": {},
   "source": [
    "Оценим качество классификации:"
   ]
  },
  {
   "cell_type": "code",
   "execution_count": 20,
   "metadata": {},
   "outputs": [
    {
     "name": "stdout",
     "output_type": "stream",
     "text": [
      "Neural network accuracy on train set: 0.9699\n"
     ]
    }
   ],
   "source": [
    "train_acc_task_2 = get_accuracy(model_task_2, train_data_loader)\n",
    "print(f\"Neural network accuracy on train set: {train_acc_task_2:3.5}\")"
   ]
  },
  {
   "cell_type": "code",
   "execution_count": 21,
   "metadata": {},
   "outputs": [
    {
     "name": "stdout",
     "output_type": "stream",
     "text": [
      "Neural network accuracy on test set: 0.9107\n"
     ]
    }
   ],
   "source": [
    "test_acc_task_2 = get_accuracy(model_task_2, test_data_loader)\n",
    "print(f\"Neural network accuracy on test set: {test_acc_task_2:3.5}\")"
   ]
  },
  {
   "cell_type": "markdown",
   "metadata": {},
   "source": [
    "Проверка, что переобучение присутствует:"
   ]
  },
  {
   "cell_type": "code",
   "execution_count": 22,
   "metadata": {},
   "outputs": [],
   "source": [
    "assert train_acc_task_2 >= test_acc_task_2, \"Train accuracy must be higher than task accuracy\"\n",
    "assert train_acc_task_2 >= 0.88, \"Train accuracy must be higher than 0.88\"\n",
    "assert (\n",
    "    train_acc_task_2 - test_acc_task_2 >= 0.04\n",
    "), \"Test accuracy should be at least 0.04 lower that train.\""
   ]
  },
  {
   "cell_type": "markdown",
   "metadata": {},
   "source": [
    "Обращаем внимане, код ниже предполагает, что ваша модель имеет содержится в переменной `model_task_2`.\n",
    "\n",
    "Также предполагается, что в переменной `submission_dict` уже содержатся результаты задачи №1. Если их там нет, загрузите их из сохраненного файла в переменную перед запуском следующей ячейки."
   ]
  },
  {
   "cell_type": "code",
   "execution_count": 23,
   "metadata": {},
   "outputs": [
    {
     "name": "stdout",
     "output_type": "stream",
     "text": [
      "File saved to `submission_dict_tasks_1_and_2.json`\n"
     ]
    }
   ],
   "source": [
    "# do not change the code in the block below\n",
    "# __________start of block__________\n",
    "assert os.path.exists(\n",
    "    \"hw_overfitting_data_dict.npy\"\n",
    "), \"Please, download `hw_overfitting_data_dict.npy` and place it in the working directory\"\n",
    "\n",
    "loaded_data_dict = np.load(\"hw_overfitting_data_dict.npy\", allow_pickle=True)\n",
    "\n",
    "submission_dict.update(\n",
    "    {\n",
    "        \"train_predictions_task_2\": get_predictions(\n",
    "            model_task_2, torch.FloatTensor(loaded_data_dict.item()[\"train\"])\n",
    "        ),\n",
    "        \"test_predictions_task_2\": get_predictions(\n",
    "            model_task_2, torch.FloatTensor(loaded_data_dict.item()[\"test\"])\n",
    "        ),\n",
    "        \"model_task_2\": parse_pytorch_model(str(model_task_2)),\n",
    "    }\n",
    ")\n",
    "\n",
    "with open(\"submission_dict_tasks_1_and_2.json\", \"w\") as iofile:\n",
    "    json.dump(submission_dict, iofile)\n",
    "print(\"File saved to `submission_dict_tasks_1_and_2.json`\")\n",
    "# __________end of block__________"
   ]
  },
  {
   "cell_type": "markdown",
   "metadata": {},
   "source": [
    "### Задача №3: Исправление модели (Return) \n",
    "Все так же работаем с [FashionMNIST](https://github.com/zalandoresearch/fashion-mnist). Наконец, ваша задача исправить ~~ошибки прошлого~~ переобучение модели, построенной в задаче 2. Достаточно добиться расхождения между точностью классификации на обучающей и тестовой выборках не превышающего 0.015 (т.е. полутора процентов).\n",
    "\n",
    "Обращаем ваше внимание, архитектура модели в задаче №3 не должна существенно отличаться от задачи №2! Вы можете использовать Batchnorm, Dropout, уменьшить размерность промежуточных представлений, обратиться к аугментации данных, но вы не можете использовать меньшее количество слоёв.\n",
    "\n",
    "__Ваша третья и финальная задача: исправить модель и/или процесс обучения, дабы справиться с переобучением.__\n",
    "\n",
    "Код для обучения модели вы можете переиспользовать. Далее присутствует лишь несколько тестов, которые помогут вам проверить свое решение."
   ]
  },
  {
   "cell_type": "markdown",
   "metadata": {},
   "source": [
    "Обращаем внимание, вам необходимо использовать переменную `model_task_3` для хранение модели во второй задаче. \n",
    "\n",
    "Также код ниже будет обращаться к переменной `layers_task_2`, инициализируйте её, если она не определена."
   ]
  },
  {
   "cell_type": "code",
   "execution_count": 24,
   "metadata": {},
   "outputs": [],
   "source": [
    "# do not change the code in the block below\n",
    "# __________start of block__________\n",
    "assert (\n",
    "    layers_task_2 is not None\n",
    "), \"Initializa layers_task_2 vairable which contains list of layers in task 2 model\"\n",
    "# __________end of block__________"
   ]
  },
  {
   "cell_type": "code",
   "execution_count": 150,
   "metadata": {},
   "outputs": [
    {
     "data": {
      "text/plain": [
       "NeuralNetwork(\n",
       "  (flatten): Flatten(start_dim=1, end_dim=-1)\n",
       "  (linear_relu_stack): Sequential(\n",
       "    (0): Conv2d(1, 1, kernel_size=(3, 3), stride=(1, 1), padding=(1, 1))\n",
       "    (1): BatchNorm2d(1, eps=1e-05, momentum=0.1, affine=True, track_running_stats=True)\n",
       "    (2): ReLU()\n",
       "    (3): Conv2d(1, 1, kernel_size=(3, 3), stride=(1, 1), padding=(1, 1))\n",
       "    (4): Conv2d(1, 2, kernel_size=(3, 3), stride=(1, 1), padding=(1, 1))\n",
       "    (5): ReLU()\n",
       "    (6): Flatten(start_dim=1, end_dim=-1)\n",
       "    (7): Linear(in_features=1568, out_features=10, bias=True)\n",
       "  )\n",
       ")"
      ]
     },
     "metadata": {},
     "output_type": "display_data"
    }
   ],
   "source": [
    "model_task_3 = None\n",
    "class NeuralNetwork(nn.Module):\n",
    "    def __init__(self, *args, **kwargs):\n",
    "        super().__init__(*args, **kwargs)\n",
    "\n",
    "        self.flatten = nn.Flatten()\n",
    "        self.linear_relu_stack = nn.Sequential(\n",
    "\n",
    "            nn.Conv2d(1, 1, kernel_size=3, padding=1),\n",
    "            nn.BatchNorm2d(1),\n",
    "            nn.ReLU(),\n",
    "\n",
    "            nn.Conv2d(1, 1, kernel_size=3, padding=1),\n",
    "            nn.Conv2d(1, 2, kernel_size=3, padding=1),\n",
    "            #nn.BatchNorm2d(2),\n",
    "            nn.ReLU(),\n",
    "\n",
    "            nn.Flatten(),\n",
    "            nn.Linear(2*28*28, 10)\n",
    "        )\n",
    "\n",
    "    def forward(self, x):\n",
    "        #x = self.flatten(x)\n",
    "        logits = self.linear_relu_stack(x)\n",
    "        return logits\n",
    "    \n",
    "model_task_3 = NeuralNetwork().to(device)\n",
    "display(model_task_3)\n",
    "\n",
    "\n",
    "\n",
    "\n",
    "# your code here\n"
   ]
  },
  {
   "cell_type": "code",
   "execution_count": 166,
   "metadata": {},
   "outputs": [
    {
     "name": "stdout",
     "output_type": "stream",
     "text": [
      "Epoch 1\n",
      "-------------------------------\n",
      "loss: 0.190476  [   32/60000]\n",
      "loss: 0.296266  [ 3232/60000]\n",
      "loss: 0.363990  [ 6432/60000]\n",
      "loss: 0.340421  [ 9632/60000]\n",
      "loss: 0.491138  [12832/60000]\n",
      "loss: 0.377474  [16032/60000]\n",
      "loss: 0.327192  [19232/60000]\n",
      "loss: 0.430114  [22432/60000]\n",
      "loss: 0.341196  [25632/60000]\n",
      "loss: 0.136516  [28832/60000]\n",
      "loss: 0.296803  [32032/60000]\n",
      "loss: 0.285123  [35232/60000]\n",
      "loss: 0.328570  [38432/60000]\n",
      "loss: 0.465822  [41632/60000]\n",
      "loss: 0.267658  [44832/60000]\n",
      "loss: 0.448518  [48032/60000]\n",
      "loss: 0.445184  [51232/60000]\n",
      "loss: 0.206094  [54432/60000]\n",
      "loss: 0.437256  [57632/60000]\n",
      "Test Error: \n",
      " Accuracy: 85.9%, Avg loss: 0.396474 \n",
      "\n",
      "Done!\n"
     ]
    }
   ],
   "source": [
    "# your code here\n",
    "\n",
    "\n",
    "import torch.optim.sgd\n",
    "\n",
    "\n",
    "loss_fn = nn.CrossEntropyLoss()\n",
    "optimizer = torch.optim.SGD(model_task_3.parameters(), lr=0.01)\n",
    "\n",
    "\n",
    "epochs = 1 # 20 -> 0,91 0,883\n",
    "for t in range(epochs):\n",
    "    print(f\"Epoch {t+1}\\n-------------------------------\")\n",
    "    train(train_data_loader, model_task_3, loss_fn, optimizer)\n",
    "    test(test_data_loader, model_task_3, loss_fn)\n",
    "print(\"Done!\")"
   ]
  },
  {
   "cell_type": "markdown",
   "metadata": {},
   "source": [
    "Проверка архитектуры:"
   ]
  },
  {
   "cell_type": "code",
   "execution_count": 167,
   "metadata": {},
   "outputs": [],
   "source": [
    "# do not change the code in the block below\n",
    "# __________start of block__________\n",
    "layers_task_3 = []\n",
    "for element in parse_pytorch_model(str(model_task_3)).get(\"layers\", []):\n",
    "    layer_name = element[\"layer\"][\"type\"]\n",
    "    layers_task_3.append(layer_name)\n",
    "\n",
    "#display(layers_task_3)\n",
    "\n",
    "idx = 0\n",
    "for model_3_layer in layers_task_3:\n",
    "    model_2_layer = layers_task_2[idx]\n",
    "    if \"dropout\" not in model_3_layer.lower() and \"batchnorm\" not in model_3_layer.lower():\n",
    "        assert (\n",
    "            model_3_layer == model_2_layer\n",
    "        ), f\"Models in tasks 2 and 3 must share the architecture except for Dropout and BatchNorm!, {model_3_layer}, {model_2_layer}\"\n",
    "        idx += 1\n",
    "# __________end of block__________"
   ]
  },
  {
   "cell_type": "markdown",
   "metadata": {},
   "source": [
    "Оценим качество классификации:"
   ]
  },
  {
   "cell_type": "code",
   "execution_count": 168,
   "metadata": {},
   "outputs": [
    {
     "name": "stdout",
     "output_type": "stream",
     "text": [
      "Neural network accuracy on train set: 0.87908\n"
     ]
    }
   ],
   "source": [
    "train_acc_task_3 = get_accuracy(model_task_3, train_data_loader)\n",
    "print(f\"Neural network accuracy on train set: {train_acc_task_3:3.5}\")"
   ]
  },
  {
   "cell_type": "code",
   "execution_count": 169,
   "metadata": {},
   "outputs": [
    {
     "name": "stdout",
     "output_type": "stream",
     "text": [
      "Neural network accuracy on test set: 0.8589\n"
     ]
    }
   ],
   "source": [
    "test_acc_task_3 = get_accuracy(model_task_3, test_data_loader)\n",
    "print(f\"Neural network accuracy on test set: {test_acc_task_3:3.5}\")"
   ]
  },
  {
   "cell_type": "markdown",
   "metadata": {},
   "source": [
    "Проверка, что переобучение присутствует:"
   ]
  },
  {
   "cell_type": "code",
   "execution_count": 170,
   "metadata": {},
   "outputs": [
    {
     "ename": "AssertionError",
     "evalue": "Train accuracy must be higher than 0.88",
     "output_type": "error",
     "traceback": [
      "\u001b[0;31m---------------------------------------------------------------------------\u001b[0m",
      "\u001b[0;31mAssertionError\u001b[0m                            Traceback (most recent call last)",
      "Cell \u001b[0;32mIn[170], line 1\u001b[0m\n\u001b[0;32m----> 1\u001b[0m \u001b[38;5;28;01massert\u001b[39;00m train_acc_task_3 \u001b[38;5;241m>\u001b[39m\u001b[38;5;241m=\u001b[39m \u001b[38;5;241m0.88\u001b[39m, \u001b[38;5;124m\"\u001b[39m\u001b[38;5;124mTrain accuracy must be higher than 0.88\u001b[39m\u001b[38;5;124m\"\u001b[39m\n\u001b[1;32m      2\u001b[0m \u001b[38;5;28;01massert\u001b[39;00m train_acc_task_3 \u001b[38;5;241m>\u001b[39m\u001b[38;5;241m=\u001b[39m \u001b[38;5;241m0.865\u001b[39m, \u001b[38;5;124m\"\u001b[39m\u001b[38;5;124mTest accuracy must be higher than 0.865\u001b[39m\u001b[38;5;124m\"\u001b[39m\n\u001b[1;32m      3\u001b[0m \u001b[38;5;28;01massert\u001b[39;00m (\n\u001b[1;32m      4\u001b[0m     train_acc_task_3 \u001b[38;5;241m-\u001b[39m test_acc_task_3 \u001b[38;5;241m<\u001b[39m\u001b[38;5;241m=\u001b[39m \u001b[38;5;241m0.015\u001b[39m\n\u001b[1;32m      5\u001b[0m ), \u001b[38;5;124mf\u001b[39m\u001b[38;5;124m\"\u001b[39m\u001b[38;5;124mTest accuracy should not be lower that train more than by 0.015, now is \u001b[39m\u001b[38;5;132;01m{\u001b[39;00mtrain_acc_task_3\u001b[38;5;250m \u001b[39m\u001b[38;5;241m-\u001b[39m\u001b[38;5;250m \u001b[39mtest_acc_task_3\u001b[38;5;132;01m}\u001b[39;00m\u001b[38;5;124m\"\u001b[39m\n",
      "\u001b[0;31mAssertionError\u001b[0m: Train accuracy must be higher than 0.88"
     ]
    }
   ],
   "source": [
    "assert train_acc_task_3 >= 0.88, \"Train accuracy must be higher than 0.88\"\n",
    "assert train_acc_task_3 >= 0.865, \"Test accuracy must be higher than 0.865\"\n",
    "assert (\n",
    "    train_acc_task_3 - test_acc_task_3 <= 0.015\n",
    "), f\"Test accuracy should not be lower that train more than by 0.015, now is {train_acc_task_3 - test_acc_task_3}\""
   ]
  },
  {
   "cell_type": "markdown",
   "metadata": {},
   "source": [
    "Обращаем внимане, код ниже предполагает, что ваша модель имеет содержится в переменной `model_task_3`.\n",
    "\n",
    "Также предполагается, что в переменной `submission_dict` уже содержатся результаты задач №1 и №2. Если их там нет, загрузите их из сохраненных файлов перед запуском следующей ячейки."
   ]
  },
  {
   "cell_type": "code",
   "execution_count": null,
   "metadata": {},
   "outputs": [],
   "source": [
    "# do not change the code in the block below\n",
    "# __________start of block__________\n",
    "assert os.path.exists(\n",
    "    \"hw_overfitting_data_dict.npy\"\n",
    "), \"Please, download `hw_overfitting_data_dict.npy` and place it in the working directory\"\n",
    "\n",
    "loaded_data_dict = np.load(\"hw_overfitting_data_dict.npy\", allow_pickle=True)\n",
    "\n",
    "submission_dict.update(\n",
    "    {\n",
    "        \"train_predictions_task_3\": get_predictions(\n",
    "            model_task_3, torch.FloatTensor(loaded_data_dict.item()[\"train\"])\n",
    "        ),\n",
    "        \"test_predictions_task_3\": get_predictions(\n",
    "            model_task_3, torch.FloatTensor(loaded_data_dict.item()[\"test\"])\n",
    "        ),\n",
    "        \"model_task_3\": parse_pytorch_model(str(model_task_3)),\n",
    "    }\n",
    ")\n",
    "\n",
    "with open(\"submission_dict_final.json\", \"w\") as iofile:\n",
    "    json.dump(submission_dict, iofile)\n",
    "print(\"File saved to `submission_dict_final.json`\")\n",
    "# __________end of block__________"
   ]
  },
  {
   "cell_type": "markdown",
   "metadata": {
    "id": "Xai8JL3tgSq_"
   },
   "source": [
    "### Сдача задания\n",
    "Сдайте сгенерированные файлы в соответствующие задачи в соревновании, а именно:\n",
    "* `submission_dict_tasks_1_and_2.json` в задачу Initiation\n",
    "* `submission_dict_final.json` в задачу Return.\n",
    "\n",
    "\n",
    "`submission_dict_task_1.json` сдавать не нужно, он уже был сдан ранее."
   ]
  },
  {
   "cell_type": "markdown",
   "metadata": {
    "id": "OtWnYAN_gSrA"
   },
   "source": [
    "На этом задание завершено. Поздравляем!"
   ]
  }
 ],
 "metadata": {
  "accelerator": "GPU",
  "colab": {
   "gpuType": "T4",
   "provenance": []
  },
  "kernelspec": {
   "display_name": "mlhw1",
   "language": "python",
   "name": "python3"
  },
  "language_info": {
   "codemirror_mode": {
    "name": "ipython",
    "version": 3
   },
   "file_extension": ".py",
   "mimetype": "text/x-python",
   "name": "python",
   "nbconvert_exporter": "python",
   "pygments_lexer": "ipython3",
   "version": "3.10.16"
  },
  "toc": {
   "base_numbering": 1,
   "nav_menu": {},
   "number_sections": true,
   "sideBar": true,
   "skip_h1_title": false,
   "title_cell": "Table of Contents",
   "title_sidebar": "Contents",
   "toc_cell": false,
   "toc_position": {},
   "toc_section_display": true,
   "toc_window_display": false
  }
 },
 "nbformat": 4,
 "nbformat_minor": 4
}
