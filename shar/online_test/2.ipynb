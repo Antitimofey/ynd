{
 "cells": [
  {
   "cell_type": "code",
   "execution_count": 65,
   "metadata": {},
   "outputs": [],
   "source": [
    "import pandas as pd\n",
    "import sqlite3\n",
    "import numpy as np"
   ]
  },
  {
   "cell_type": "code",
   "execution_count": 66,
   "metadata": {},
   "outputs": [],
   "source": [
    "conn = sqlite3.connect('data2.db')"
   ]
  },
  {
   "cell_type": "code",
   "execution_count": 67,
   "metadata": {},
   "outputs": [
    {
     "data": {
      "text/html": [
       "<div>\n",
       "<style scoped>\n",
       "    .dataframe tbody tr th:only-of-type {\n",
       "        vertical-align: middle;\n",
       "    }\n",
       "\n",
       "    .dataframe tbody tr th {\n",
       "        vertical-align: top;\n",
       "    }\n",
       "\n",
       "    .dataframe thead th {\n",
       "        text-align: right;\n",
       "    }\n",
       "</style>\n",
       "<table border=\"1\" class=\"dataframe\">\n",
       "  <thead>\n",
       "    <tr style=\"text-align: right;\">\n",
       "      <th></th>\n",
       "      <th>id</th>\n",
       "      <th>name</th>\n",
       "      <th>start_dttm</th>\n",
       "      <th>birth_dt</th>\n",
       "    </tr>\n",
       "  </thead>\n",
       "  <tbody>\n",
       "    <tr>\n",
       "      <th>0</th>\n",
       "      <td>101</td>\n",
       "      <td>Иванов Иван</td>\n",
       "      <td>2024-01-15</td>\n",
       "      <td>1990-05-10</td>\n",
       "    </tr>\n",
       "    <tr>\n",
       "      <th>1</th>\n",
       "      <td>102</td>\n",
       "      <td>Петрова Мария</td>\n",
       "      <td>2024-02-20</td>\n",
       "      <td>1985-11-25</td>\n",
       "    </tr>\n",
       "    <tr>\n",
       "      <th>2</th>\n",
       "      <td>103</td>\n",
       "      <td>Сидоров Алексей</td>\n",
       "      <td>2024-03-05</td>\n",
       "      <td>1982-08-15</td>\n",
       "    </tr>\n",
       "    <tr>\n",
       "      <th>3</th>\n",
       "      <td>104</td>\n",
       "      <td>Козлова Екатерина</td>\n",
       "      <td>2024-01-02</td>\n",
       "      <td>1995-04-30</td>\n",
       "    </tr>\n",
       "    <tr>\n",
       "      <th>4</th>\n",
       "      <td>105</td>\n",
       "      <td>Смирнов Дмитрий</td>\n",
       "      <td>2024-03-10</td>\n",
       "      <td>1977-09-20</td>\n",
       "    </tr>\n",
       "  </tbody>\n",
       "</table>\n",
       "</div>"
      ],
      "text/plain": [
       "    id               name  start_dttm    birth_dt\n",
       "0  101        Иванов Иван  2024-01-15  1990-05-10\n",
       "1  102      Петрова Мария  2024-02-20  1985-11-25\n",
       "2  103    Сидоров Алексей  2024-03-05  1982-08-15\n",
       "3  104  Козлова Екатерина  2024-01-02  1995-04-30\n",
       "4  105    Смирнов Дмитрий  2024-03-10  1977-09-20"
      ]
     },
     "metadata": {},
     "output_type": "display_data"
    },
    {
     "data": {
      "text/html": [
       "<div>\n",
       "<style scoped>\n",
       "    .dataframe tbody tr th:only-of-type {\n",
       "        vertical-align: middle;\n",
       "    }\n",
       "\n",
       "    .dataframe tbody tr th {\n",
       "        vertical-align: top;\n",
       "    }\n",
       "\n",
       "    .dataframe thead th {\n",
       "        text-align: right;\n",
       "    }\n",
       "</style>\n",
       "<table border=\"1\" class=\"dataframe\">\n",
       "  <thead>\n",
       "    <tr style=\"text-align: right;\">\n",
       "      <th></th>\n",
       "      <th>id</th>\n",
       "      <th>customer_id</th>\n",
       "      <th>amount_rur</th>\n",
       "      <th>success_flg</th>\n",
       "      <th>transaction_dttm</th>\n",
       "    </tr>\n",
       "  </thead>\n",
       "  <tbody>\n",
       "    <tr>\n",
       "      <th>0</th>\n",
       "      <td>1</td>\n",
       "      <td>101</td>\n",
       "      <td>500.00</td>\n",
       "      <td>1</td>\n",
       "      <td>2024-03-17 08:30:00</td>\n",
       "    </tr>\n",
       "    <tr>\n",
       "      <th>1</th>\n",
       "      <td>2</td>\n",
       "      <td>102</td>\n",
       "      <td>750.25</td>\n",
       "      <td>0</td>\n",
       "      <td>2024-03-17 09:45:00</td>\n",
       "    </tr>\n",
       "    <tr>\n",
       "      <th>2</th>\n",
       "      <td>3</td>\n",
       "      <td>103</td>\n",
       "      <td>1000.50</td>\n",
       "      <td>1</td>\n",
       "      <td>2024-03-17 10:20:00</td>\n",
       "    </tr>\n",
       "    <tr>\n",
       "      <th>3</th>\n",
       "      <td>4</td>\n",
       "      <td>101</td>\n",
       "      <td>300.75</td>\n",
       "      <td>1</td>\n",
       "      <td>2024-03-17 11:00:00</td>\n",
       "    </tr>\n",
       "    <tr>\n",
       "      <th>4</th>\n",
       "      <td>5</td>\n",
       "      <td>104</td>\n",
       "      <td>1200.80</td>\n",
       "      <td>0</td>\n",
       "      <td>2024-03-17 12:30:00</td>\n",
       "    </tr>\n",
       "    <tr>\n",
       "      <th>5</th>\n",
       "      <td>6</td>\n",
       "      <td>101</td>\n",
       "      <td>600.75</td>\n",
       "      <td>1</td>\n",
       "      <td>2024-04-17 11:00:00</td>\n",
       "    </tr>\n",
       "    <tr>\n",
       "      <th>6</th>\n",
       "      <td>7</td>\n",
       "      <td>101</td>\n",
       "      <td>200.75</td>\n",
       "      <td>1</td>\n",
       "      <td>2024-04-18 11:00:00</td>\n",
       "    </tr>\n",
       "    <tr>\n",
       "      <th>7</th>\n",
       "      <td>8</td>\n",
       "      <td>103</td>\n",
       "      <td>1000.50</td>\n",
       "      <td>1</td>\n",
       "      <td>2024-04-17 10:20:00</td>\n",
       "    </tr>\n",
       "    <tr>\n",
       "      <th>8</th>\n",
       "      <td>9</td>\n",
       "      <td>102</td>\n",
       "      <td>350.00</td>\n",
       "      <td>0</td>\n",
       "      <td>2024-04-17 09:45:00</td>\n",
       "    </tr>\n",
       "  </tbody>\n",
       "</table>\n",
       "</div>"
      ],
      "text/plain": [
       "   id  customer_id  amount_rur  success_flg    transaction_dttm\n",
       "0   1          101      500.00            1 2024-03-17 08:30:00\n",
       "1   2          102      750.25            0 2024-03-17 09:45:00\n",
       "2   3          103     1000.50            1 2024-03-17 10:20:00\n",
       "3   4          101      300.75            1 2024-03-17 11:00:00\n",
       "4   5          104     1200.80            0 2024-03-17 12:30:00\n",
       "5   6          101      600.75            1 2024-04-17 11:00:00\n",
       "6   7          101      200.75            1 2024-04-18 11:00:00\n",
       "7   8          103     1000.50            1 2024-04-17 10:20:00\n",
       "8   9          102      350.00            0 2024-04-17 09:45:00"
      ]
     },
     "metadata": {},
     "output_type": "display_data"
    },
    {
     "data": {
      "text/html": [
       "<div>\n",
       "<style scoped>\n",
       "    .dataframe tbody tr th:only-of-type {\n",
       "        vertical-align: middle;\n",
       "    }\n",
       "\n",
       "    .dataframe tbody tr th {\n",
       "        vertical-align: top;\n",
       "    }\n",
       "\n",
       "    .dataframe thead th {\n",
       "        text-align: right;\n",
       "    }\n",
       "</style>\n",
       "<table border=\"1\" class=\"dataframe\">\n",
       "  <thead>\n",
       "    <tr style=\"text-align: right;\">\n",
       "      <th></th>\n",
       "      <th>id</th>\n",
       "      <th>customer_id</th>\n",
       "      <th>amount_rur</th>\n",
       "      <th>success_flg</th>\n",
       "      <th>transaction_dttm</th>\n",
       "    </tr>\n",
       "  </thead>\n",
       "  <tbody>\n",
       "    <tr>\n",
       "      <th>0</th>\n",
       "      <td>10</td>\n",
       "      <td>101</td>\n",
       "      <td>600</td>\n",
       "      <td>1</td>\n",
       "      <td>2024-03-17 08:45:00</td>\n",
       "    </tr>\n",
       "    <tr>\n",
       "      <th>1</th>\n",
       "      <td>11</td>\n",
       "      <td>101</td>\n",
       "      <td>700</td>\n",
       "      <td>1</td>\n",
       "      <td>2024-03-17 09:10:00</td>\n",
       "    </tr>\n",
       "    <tr>\n",
       "      <th>2</th>\n",
       "      <td>12</td>\n",
       "      <td>101</td>\n",
       "      <td>650</td>\n",
       "      <td>1</td>\n",
       "      <td>2024-03-17 09:00:00</td>\n",
       "    </tr>\n",
       "  </tbody>\n",
       "</table>\n",
       "</div>"
      ],
      "text/plain": [
       "   id  customer_id  amount_rur  success_flg    transaction_dttm\n",
       "0  10          101         600            1 2024-03-17 08:45:00\n",
       "1  11          101         700            1 2024-03-17 09:10:00\n",
       "2  12          101         650            1 2024-03-17 09:00:00"
      ]
     },
     "metadata": {},
     "output_type": "display_data"
    }
   ],
   "source": [
    "customers = pd.read_sql('select * from customer', conn)\n",
    "transactions = pd.read_sql('select * from transactions', conn, parse_dates='transaction_dttm')\n",
    "\n",
    "display(customers)\n",
    "display(transactions)\n",
    "\n",
    "#transactions.concat([10, 101, 600, 1, pd.to_datetime('2024-03-17 08:45:00')])\n",
    "addit = pd.DataFrame([[10, 101, 600, 1, pd.to_datetime('2024-03-17 08:45:00')],\n",
    "                      [11, 101, 700, 1, pd.to_datetime('2024-03-17 09:10:00')],\n",
    "                      [12, 101, 650, 1, pd.to_datetime('2024-03-17 09:00:00')]],\n",
    "                     columns=transactions.columns)\n",
    "\n",
    "display(addit)\n",
    "\n",
    "#transactions = pd.concat([transactions, addit])\n"
   ]
  },
  {
   "cell_type": "code",
   "execution_count": 68,
   "metadata": {},
   "outputs": [],
   "source": [
    "def process(customers: pd.DataFrame, transactions: pd.DataFrame):\n",
    "\n",
    "    #===========create datamart=================\n",
    "    display('===========create datamart================')\n",
    "\n",
    "    df = pd.merge(customers, transactions, left_on='id', right_on='customer_id')\n",
    "    df = df[df['success_flg'] == True]\n",
    "    df.sort_values(['name', 'transaction_dttm'], inplace=True)\n",
    "\n",
    "    display(df)\n",
    "    \n",
    "\n",
    "\n",
    "    #============process payments================\n",
    "    display('============process payments================')\n",
    "\n",
    "    rur = df['amount_rur']\n",
    "    display(rur)\n",
    "\n",
    "    dif = np.diff(rur)\n",
    "    display('dif is', dif)\n",
    "    display('previous', dif[:-1])\n",
    "\n",
    "    display('next', dif[1:])\n",
    "\n",
    "    print('so result is', (dif[:-1] > 0) * (dif[1:] > 0))\n",
    "\n",
    "    bool_diff = np.array([False, *((dif[:-1] > 0) * (dif[1:] > 0)), False])\n",
    "    display(bool_diff)\n",
    "\n",
    "\n",
    "\n",
    "    #=========process names====================\n",
    "    display('=========process names====================')\n",
    "\n",
    "    names = np.array(df['name'])\n",
    "\n",
    "    bool_names = (names[:-2] == names[1:-1]) * (names[2:] == names[1:-1])\n",
    "    display(bool_names)\n",
    "\n",
    "    bool_names = np.array([False, *bool_names, False])\n",
    "    display(bool_names)\n",
    "\n",
    "\n",
    "    #apply masks to dataframe\n",
    "    display('====================result=======================')\n",
    "    return df[bool_diff & bool_names]\n"
   ]
  },
  {
   "cell_type": "code",
   "execution_count": 69,
   "metadata": {},
   "outputs": [
    {
     "data": {
      "text/plain": [
       "'===========create datamart================'"
      ]
     },
     "metadata": {},
     "output_type": "display_data"
    },
    {
     "data": {
      "text/html": [
       "<div>\n",
       "<style scoped>\n",
       "    .dataframe tbody tr th:only-of-type {\n",
       "        vertical-align: middle;\n",
       "    }\n",
       "\n",
       "    .dataframe tbody tr th {\n",
       "        vertical-align: top;\n",
       "    }\n",
       "\n",
       "    .dataframe thead th {\n",
       "        text-align: right;\n",
       "    }\n",
       "</style>\n",
       "<table border=\"1\" class=\"dataframe\">\n",
       "  <thead>\n",
       "    <tr style=\"text-align: right;\">\n",
       "      <th></th>\n",
       "      <th>id_x</th>\n",
       "      <th>name</th>\n",
       "      <th>start_dttm</th>\n",
       "      <th>birth_dt</th>\n",
       "      <th>id_y</th>\n",
       "      <th>customer_id</th>\n",
       "      <th>amount_rur</th>\n",
       "      <th>success_flg</th>\n",
       "      <th>transaction_dttm</th>\n",
       "    </tr>\n",
       "  </thead>\n",
       "  <tbody>\n",
       "    <tr>\n",
       "      <th>0</th>\n",
       "      <td>101</td>\n",
       "      <td>Иванов Иван</td>\n",
       "      <td>2024-01-15</td>\n",
       "      <td>1990-05-10</td>\n",
       "      <td>1</td>\n",
       "      <td>101</td>\n",
       "      <td>500.00</td>\n",
       "      <td>1</td>\n",
       "      <td>2024-03-17 08:30:00</td>\n",
       "    </tr>\n",
       "    <tr>\n",
       "      <th>1</th>\n",
       "      <td>101</td>\n",
       "      <td>Иванов Иван</td>\n",
       "      <td>2024-01-15</td>\n",
       "      <td>1990-05-10</td>\n",
       "      <td>4</td>\n",
       "      <td>101</td>\n",
       "      <td>300.75</td>\n",
       "      <td>1</td>\n",
       "      <td>2024-03-17 11:00:00</td>\n",
       "    </tr>\n",
       "    <tr>\n",
       "      <th>2</th>\n",
       "      <td>101</td>\n",
       "      <td>Иванов Иван</td>\n",
       "      <td>2024-01-15</td>\n",
       "      <td>1990-05-10</td>\n",
       "      <td>6</td>\n",
       "      <td>101</td>\n",
       "      <td>600.75</td>\n",
       "      <td>1</td>\n",
       "      <td>2024-04-17 11:00:00</td>\n",
       "    </tr>\n",
       "    <tr>\n",
       "      <th>3</th>\n",
       "      <td>101</td>\n",
       "      <td>Иванов Иван</td>\n",
       "      <td>2024-01-15</td>\n",
       "      <td>1990-05-10</td>\n",
       "      <td>7</td>\n",
       "      <td>101</td>\n",
       "      <td>200.75</td>\n",
       "      <td>1</td>\n",
       "      <td>2024-04-18 11:00:00</td>\n",
       "    </tr>\n",
       "    <tr>\n",
       "      <th>6</th>\n",
       "      <td>103</td>\n",
       "      <td>Сидоров Алексей</td>\n",
       "      <td>2024-03-05</td>\n",
       "      <td>1982-08-15</td>\n",
       "      <td>3</td>\n",
       "      <td>103</td>\n",
       "      <td>1000.50</td>\n",
       "      <td>1</td>\n",
       "      <td>2024-03-17 10:20:00</td>\n",
       "    </tr>\n",
       "    <tr>\n",
       "      <th>7</th>\n",
       "      <td>103</td>\n",
       "      <td>Сидоров Алексей</td>\n",
       "      <td>2024-03-05</td>\n",
       "      <td>1982-08-15</td>\n",
       "      <td>8</td>\n",
       "      <td>103</td>\n",
       "      <td>1000.50</td>\n",
       "      <td>1</td>\n",
       "      <td>2024-04-17 10:20:00</td>\n",
       "    </tr>\n",
       "  </tbody>\n",
       "</table>\n",
       "</div>"
      ],
      "text/plain": [
       "   id_x             name  start_dttm    birth_dt  id_y  customer_id  \\\n",
       "0   101      Иванов Иван  2024-01-15  1990-05-10     1          101   \n",
       "1   101      Иванов Иван  2024-01-15  1990-05-10     4          101   \n",
       "2   101      Иванов Иван  2024-01-15  1990-05-10     6          101   \n",
       "3   101      Иванов Иван  2024-01-15  1990-05-10     7          101   \n",
       "6   103  Сидоров Алексей  2024-03-05  1982-08-15     3          103   \n",
       "7   103  Сидоров Алексей  2024-03-05  1982-08-15     8          103   \n",
       "\n",
       "   amount_rur  success_flg    transaction_dttm  \n",
       "0      500.00            1 2024-03-17 08:30:00  \n",
       "1      300.75            1 2024-03-17 11:00:00  \n",
       "2      600.75            1 2024-04-17 11:00:00  \n",
       "3      200.75            1 2024-04-18 11:00:00  \n",
       "6     1000.50            1 2024-03-17 10:20:00  \n",
       "7     1000.50            1 2024-04-17 10:20:00  "
      ]
     },
     "metadata": {},
     "output_type": "display_data"
    },
    {
     "data": {
      "text/plain": [
       "'============process payments================'"
      ]
     },
     "metadata": {},
     "output_type": "display_data"
    },
    {
     "data": {
      "text/plain": [
       "0     500.00\n",
       "1     300.75\n",
       "2     600.75\n",
       "3     200.75\n",
       "6    1000.50\n",
       "7    1000.50\n",
       "Name: amount_rur, dtype: float64"
      ]
     },
     "metadata": {},
     "output_type": "display_data"
    },
    {
     "data": {
      "text/plain": [
       "'dif is'"
      ]
     },
     "metadata": {},
     "output_type": "display_data"
    },
    {
     "data": {
      "text/plain": [
       "array([-199.25,  300.  , -400.  ,  799.75,    0.  ])"
      ]
     },
     "metadata": {},
     "output_type": "display_data"
    },
    {
     "data": {
      "text/plain": [
       "'previous'"
      ]
     },
     "metadata": {},
     "output_type": "display_data"
    },
    {
     "data": {
      "text/plain": [
       "array([-199.25,  300.  , -400.  ,  799.75])"
      ]
     },
     "metadata": {},
     "output_type": "display_data"
    },
    {
     "data": {
      "text/plain": [
       "'next'"
      ]
     },
     "metadata": {},
     "output_type": "display_data"
    },
    {
     "data": {
      "text/plain": [
       "array([ 300.  , -400.  ,  799.75,    0.  ])"
      ]
     },
     "metadata": {},
     "output_type": "display_data"
    },
    {
     "name": "stdout",
     "output_type": "stream",
     "text": [
      "so result is [False False False False]\n"
     ]
    },
    {
     "data": {
      "text/plain": [
       "array([False, False, False, False, False, False])"
      ]
     },
     "metadata": {},
     "output_type": "display_data"
    },
    {
     "data": {
      "text/plain": [
       "'=========process names===================='"
      ]
     },
     "metadata": {},
     "output_type": "display_data"
    },
    {
     "data": {
      "text/plain": [
       "array([ True,  True, False, False])"
      ]
     },
     "metadata": {},
     "output_type": "display_data"
    },
    {
     "data": {
      "text/plain": [
       "array([False,  True,  True, False, False, False])"
      ]
     },
     "metadata": {},
     "output_type": "display_data"
    },
    {
     "data": {
      "text/plain": [
       "'====================result======================='"
      ]
     },
     "metadata": {},
     "output_type": "display_data"
    },
    {
     "data": {
      "text/html": [
       "<div>\n",
       "<style scoped>\n",
       "    .dataframe tbody tr th:only-of-type {\n",
       "        vertical-align: middle;\n",
       "    }\n",
       "\n",
       "    .dataframe tbody tr th {\n",
       "        vertical-align: top;\n",
       "    }\n",
       "\n",
       "    .dataframe thead th {\n",
       "        text-align: right;\n",
       "    }\n",
       "</style>\n",
       "<table border=\"1\" class=\"dataframe\">\n",
       "  <thead>\n",
       "    <tr style=\"text-align: right;\">\n",
       "      <th></th>\n",
       "      <th>id_x</th>\n",
       "      <th>name</th>\n",
       "      <th>start_dttm</th>\n",
       "      <th>birth_dt</th>\n",
       "      <th>id_y</th>\n",
       "      <th>customer_id</th>\n",
       "      <th>amount_rur</th>\n",
       "      <th>success_flg</th>\n",
       "      <th>transaction_dttm</th>\n",
       "    </tr>\n",
       "  </thead>\n",
       "  <tbody>\n",
       "  </tbody>\n",
       "</table>\n",
       "</div>"
      ],
      "text/plain": [
       "Empty DataFrame\n",
       "Columns: [id_x, name, start_dttm, birth_dt, id_y, customer_id, amount_rur, success_flg, transaction_dttm]\n",
       "Index: []"
      ]
     },
     "execution_count": 69,
     "metadata": {},
     "output_type": "execute_result"
    }
   ],
   "source": [
    "process(customers ,transactions)"
   ]
  }
 ],
 "metadata": {
  "kernelspec": {
   "display_name": "base",
   "language": "python",
   "name": "python3"
  },
  "language_info": {
   "codemirror_mode": {
    "name": "ipython",
    "version": 3
   },
   "file_extension": ".py",
   "mimetype": "text/x-python",
   "name": "python",
   "nbconvert_exporter": "python",
   "pygments_lexer": "ipython3",
   "version": "3.12.7"
  }
 },
 "nbformat": 4,
 "nbformat_minor": 2
}
